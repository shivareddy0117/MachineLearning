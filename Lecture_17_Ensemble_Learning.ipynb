{
 "cells": [
  {
   "cell_type": "markdown",
   "id": "db6db712",
   "metadata": {},
   "source": [
    "# Ensemble Learning\n",
    "\n",
    "### 1) Using sklearn majority voting, stacking, bagging, random forest, and adaboost classifiers\n",
    "\n",
    "### 2) Using sklearn gradient boosting regressor "
   ]
  },
  {
   "cell_type": "code",
   "execution_count": 1,
   "id": "8005ddf7",
   "metadata": {},
   "outputs": [
    {
     "data": {
      "text/html": [
       "<div>\n",
       "<style scoped>\n",
       "    .dataframe tbody tr th:only-of-type {\n",
       "        vertical-align: middle;\n",
       "    }\n",
       "\n",
       "    .dataframe tbody tr th {\n",
       "        vertical-align: top;\n",
       "    }\n",
       "\n",
       "    .dataframe thead th {\n",
       "        text-align: right;\n",
       "    }\n",
       "</style>\n",
       "<table border=\"1\" class=\"dataframe\">\n",
       "  <thead>\n",
       "    <tr style=\"text-align: right;\">\n",
       "      <th></th>\n",
       "      <th>mean radius</th>\n",
       "      <th>mean texture</th>\n",
       "      <th>mean perimeter</th>\n",
       "      <th>mean area</th>\n",
       "      <th>mean smoothness</th>\n",
       "      <th>mean compactness</th>\n",
       "      <th>mean concavity</th>\n",
       "      <th>mean concave points</th>\n",
       "      <th>mean symmetry</th>\n",
       "      <th>mean fractal dimension</th>\n",
       "      <th>...</th>\n",
       "      <th>worst texture</th>\n",
       "      <th>worst perimeter</th>\n",
       "      <th>worst area</th>\n",
       "      <th>worst smoothness</th>\n",
       "      <th>worst compactness</th>\n",
       "      <th>worst concavity</th>\n",
       "      <th>worst concave points</th>\n",
       "      <th>worst symmetry</th>\n",
       "      <th>worst fractal dimension</th>\n",
       "      <th>label</th>\n",
       "    </tr>\n",
       "  </thead>\n",
       "  <tbody>\n",
       "    <tr>\n",
       "      <th>0</th>\n",
       "      <td>17.99</td>\n",
       "      <td>10.38</td>\n",
       "      <td>122.80</td>\n",
       "      <td>1001.0</td>\n",
       "      <td>0.11840</td>\n",
       "      <td>0.27760</td>\n",
       "      <td>0.30010</td>\n",
       "      <td>0.14710</td>\n",
       "      <td>0.2419</td>\n",
       "      <td>0.07871</td>\n",
       "      <td>...</td>\n",
       "      <td>17.33</td>\n",
       "      <td>184.60</td>\n",
       "      <td>2019.0</td>\n",
       "      <td>0.16220</td>\n",
       "      <td>0.66560</td>\n",
       "      <td>0.7119</td>\n",
       "      <td>0.2654</td>\n",
       "      <td>0.4601</td>\n",
       "      <td>0.11890</td>\n",
       "      <td>0</td>\n",
       "    </tr>\n",
       "    <tr>\n",
       "      <th>1</th>\n",
       "      <td>20.57</td>\n",
       "      <td>17.77</td>\n",
       "      <td>132.90</td>\n",
       "      <td>1326.0</td>\n",
       "      <td>0.08474</td>\n",
       "      <td>0.07864</td>\n",
       "      <td>0.08690</td>\n",
       "      <td>0.07017</td>\n",
       "      <td>0.1812</td>\n",
       "      <td>0.05667</td>\n",
       "      <td>...</td>\n",
       "      <td>23.41</td>\n",
       "      <td>158.80</td>\n",
       "      <td>1956.0</td>\n",
       "      <td>0.12380</td>\n",
       "      <td>0.18660</td>\n",
       "      <td>0.2416</td>\n",
       "      <td>0.1860</td>\n",
       "      <td>0.2750</td>\n",
       "      <td>0.08902</td>\n",
       "      <td>0</td>\n",
       "    </tr>\n",
       "    <tr>\n",
       "      <th>2</th>\n",
       "      <td>19.69</td>\n",
       "      <td>21.25</td>\n",
       "      <td>130.00</td>\n",
       "      <td>1203.0</td>\n",
       "      <td>0.10960</td>\n",
       "      <td>0.15990</td>\n",
       "      <td>0.19740</td>\n",
       "      <td>0.12790</td>\n",
       "      <td>0.2069</td>\n",
       "      <td>0.05999</td>\n",
       "      <td>...</td>\n",
       "      <td>25.53</td>\n",
       "      <td>152.50</td>\n",
       "      <td>1709.0</td>\n",
       "      <td>0.14440</td>\n",
       "      <td>0.42450</td>\n",
       "      <td>0.4504</td>\n",
       "      <td>0.2430</td>\n",
       "      <td>0.3613</td>\n",
       "      <td>0.08758</td>\n",
       "      <td>0</td>\n",
       "    </tr>\n",
       "    <tr>\n",
       "      <th>3</th>\n",
       "      <td>11.42</td>\n",
       "      <td>20.38</td>\n",
       "      <td>77.58</td>\n",
       "      <td>386.1</td>\n",
       "      <td>0.14250</td>\n",
       "      <td>0.28390</td>\n",
       "      <td>0.24140</td>\n",
       "      <td>0.10520</td>\n",
       "      <td>0.2597</td>\n",
       "      <td>0.09744</td>\n",
       "      <td>...</td>\n",
       "      <td>26.50</td>\n",
       "      <td>98.87</td>\n",
       "      <td>567.7</td>\n",
       "      <td>0.20980</td>\n",
       "      <td>0.86630</td>\n",
       "      <td>0.6869</td>\n",
       "      <td>0.2575</td>\n",
       "      <td>0.6638</td>\n",
       "      <td>0.17300</td>\n",
       "      <td>0</td>\n",
       "    </tr>\n",
       "    <tr>\n",
       "      <th>4</th>\n",
       "      <td>20.29</td>\n",
       "      <td>14.34</td>\n",
       "      <td>135.10</td>\n",
       "      <td>1297.0</td>\n",
       "      <td>0.10030</td>\n",
       "      <td>0.13280</td>\n",
       "      <td>0.19800</td>\n",
       "      <td>0.10430</td>\n",
       "      <td>0.1809</td>\n",
       "      <td>0.05883</td>\n",
       "      <td>...</td>\n",
       "      <td>16.67</td>\n",
       "      <td>152.20</td>\n",
       "      <td>1575.0</td>\n",
       "      <td>0.13740</td>\n",
       "      <td>0.20500</td>\n",
       "      <td>0.4000</td>\n",
       "      <td>0.1625</td>\n",
       "      <td>0.2364</td>\n",
       "      <td>0.07678</td>\n",
       "      <td>0</td>\n",
       "    </tr>\n",
       "    <tr>\n",
       "      <th>...</th>\n",
       "      <td>...</td>\n",
       "      <td>...</td>\n",
       "      <td>...</td>\n",
       "      <td>...</td>\n",
       "      <td>...</td>\n",
       "      <td>...</td>\n",
       "      <td>...</td>\n",
       "      <td>...</td>\n",
       "      <td>...</td>\n",
       "      <td>...</td>\n",
       "      <td>...</td>\n",
       "      <td>...</td>\n",
       "      <td>...</td>\n",
       "      <td>...</td>\n",
       "      <td>...</td>\n",
       "      <td>...</td>\n",
       "      <td>...</td>\n",
       "      <td>...</td>\n",
       "      <td>...</td>\n",
       "      <td>...</td>\n",
       "      <td>...</td>\n",
       "    </tr>\n",
       "    <tr>\n",
       "      <th>564</th>\n",
       "      <td>21.56</td>\n",
       "      <td>22.39</td>\n",
       "      <td>142.00</td>\n",
       "      <td>1479.0</td>\n",
       "      <td>0.11100</td>\n",
       "      <td>0.11590</td>\n",
       "      <td>0.24390</td>\n",
       "      <td>0.13890</td>\n",
       "      <td>0.1726</td>\n",
       "      <td>0.05623</td>\n",
       "      <td>...</td>\n",
       "      <td>26.40</td>\n",
       "      <td>166.10</td>\n",
       "      <td>2027.0</td>\n",
       "      <td>0.14100</td>\n",
       "      <td>0.21130</td>\n",
       "      <td>0.4107</td>\n",
       "      <td>0.2216</td>\n",
       "      <td>0.2060</td>\n",
       "      <td>0.07115</td>\n",
       "      <td>0</td>\n",
       "    </tr>\n",
       "    <tr>\n",
       "      <th>565</th>\n",
       "      <td>20.13</td>\n",
       "      <td>28.25</td>\n",
       "      <td>131.20</td>\n",
       "      <td>1261.0</td>\n",
       "      <td>0.09780</td>\n",
       "      <td>0.10340</td>\n",
       "      <td>0.14400</td>\n",
       "      <td>0.09791</td>\n",
       "      <td>0.1752</td>\n",
       "      <td>0.05533</td>\n",
       "      <td>...</td>\n",
       "      <td>38.25</td>\n",
       "      <td>155.00</td>\n",
       "      <td>1731.0</td>\n",
       "      <td>0.11660</td>\n",
       "      <td>0.19220</td>\n",
       "      <td>0.3215</td>\n",
       "      <td>0.1628</td>\n",
       "      <td>0.2572</td>\n",
       "      <td>0.06637</td>\n",
       "      <td>0</td>\n",
       "    </tr>\n",
       "    <tr>\n",
       "      <th>566</th>\n",
       "      <td>16.60</td>\n",
       "      <td>28.08</td>\n",
       "      <td>108.30</td>\n",
       "      <td>858.1</td>\n",
       "      <td>0.08455</td>\n",
       "      <td>0.10230</td>\n",
       "      <td>0.09251</td>\n",
       "      <td>0.05302</td>\n",
       "      <td>0.1590</td>\n",
       "      <td>0.05648</td>\n",
       "      <td>...</td>\n",
       "      <td>34.12</td>\n",
       "      <td>126.70</td>\n",
       "      <td>1124.0</td>\n",
       "      <td>0.11390</td>\n",
       "      <td>0.30940</td>\n",
       "      <td>0.3403</td>\n",
       "      <td>0.1418</td>\n",
       "      <td>0.2218</td>\n",
       "      <td>0.07820</td>\n",
       "      <td>0</td>\n",
       "    </tr>\n",
       "    <tr>\n",
       "      <th>567</th>\n",
       "      <td>20.60</td>\n",
       "      <td>29.33</td>\n",
       "      <td>140.10</td>\n",
       "      <td>1265.0</td>\n",
       "      <td>0.11780</td>\n",
       "      <td>0.27700</td>\n",
       "      <td>0.35140</td>\n",
       "      <td>0.15200</td>\n",
       "      <td>0.2397</td>\n",
       "      <td>0.07016</td>\n",
       "      <td>...</td>\n",
       "      <td>39.42</td>\n",
       "      <td>184.60</td>\n",
       "      <td>1821.0</td>\n",
       "      <td>0.16500</td>\n",
       "      <td>0.86810</td>\n",
       "      <td>0.9387</td>\n",
       "      <td>0.2650</td>\n",
       "      <td>0.4087</td>\n",
       "      <td>0.12400</td>\n",
       "      <td>0</td>\n",
       "    </tr>\n",
       "    <tr>\n",
       "      <th>568</th>\n",
       "      <td>7.76</td>\n",
       "      <td>24.54</td>\n",
       "      <td>47.92</td>\n",
       "      <td>181.0</td>\n",
       "      <td>0.05263</td>\n",
       "      <td>0.04362</td>\n",
       "      <td>0.00000</td>\n",
       "      <td>0.00000</td>\n",
       "      <td>0.1587</td>\n",
       "      <td>0.05884</td>\n",
       "      <td>...</td>\n",
       "      <td>30.37</td>\n",
       "      <td>59.16</td>\n",
       "      <td>268.6</td>\n",
       "      <td>0.08996</td>\n",
       "      <td>0.06444</td>\n",
       "      <td>0.0000</td>\n",
       "      <td>0.0000</td>\n",
       "      <td>0.2871</td>\n",
       "      <td>0.07039</td>\n",
       "      <td>1</td>\n",
       "    </tr>\n",
       "  </tbody>\n",
       "</table>\n",
       "<p>569 rows × 31 columns</p>\n",
       "</div>"
      ],
      "text/plain": [
       "     mean radius  mean texture  mean perimeter  mean area  mean smoothness  \\\n",
       "0          17.99         10.38          122.80     1001.0          0.11840   \n",
       "1          20.57         17.77          132.90     1326.0          0.08474   \n",
       "2          19.69         21.25          130.00     1203.0          0.10960   \n",
       "3          11.42         20.38           77.58      386.1          0.14250   \n",
       "4          20.29         14.34          135.10     1297.0          0.10030   \n",
       "..           ...           ...             ...        ...              ...   \n",
       "564        21.56         22.39          142.00     1479.0          0.11100   \n",
       "565        20.13         28.25          131.20     1261.0          0.09780   \n",
       "566        16.60         28.08          108.30      858.1          0.08455   \n",
       "567        20.60         29.33          140.10     1265.0          0.11780   \n",
       "568         7.76         24.54           47.92      181.0          0.05263   \n",
       "\n",
       "     mean compactness  mean concavity  mean concave points  mean symmetry  \\\n",
       "0             0.27760         0.30010              0.14710         0.2419   \n",
       "1             0.07864         0.08690              0.07017         0.1812   \n",
       "2             0.15990         0.19740              0.12790         0.2069   \n",
       "3             0.28390         0.24140              0.10520         0.2597   \n",
       "4             0.13280         0.19800              0.10430         0.1809   \n",
       "..                ...             ...                  ...            ...   \n",
       "564           0.11590         0.24390              0.13890         0.1726   \n",
       "565           0.10340         0.14400              0.09791         0.1752   \n",
       "566           0.10230         0.09251              0.05302         0.1590   \n",
       "567           0.27700         0.35140              0.15200         0.2397   \n",
       "568           0.04362         0.00000              0.00000         0.1587   \n",
       "\n",
       "     mean fractal dimension  ...  worst texture  worst perimeter  worst area  \\\n",
       "0                   0.07871  ...          17.33           184.60      2019.0   \n",
       "1                   0.05667  ...          23.41           158.80      1956.0   \n",
       "2                   0.05999  ...          25.53           152.50      1709.0   \n",
       "3                   0.09744  ...          26.50            98.87       567.7   \n",
       "4                   0.05883  ...          16.67           152.20      1575.0   \n",
       "..                      ...  ...            ...              ...         ...   \n",
       "564                 0.05623  ...          26.40           166.10      2027.0   \n",
       "565                 0.05533  ...          38.25           155.00      1731.0   \n",
       "566                 0.05648  ...          34.12           126.70      1124.0   \n",
       "567                 0.07016  ...          39.42           184.60      1821.0   \n",
       "568                 0.05884  ...          30.37            59.16       268.6   \n",
       "\n",
       "     worst smoothness  worst compactness  worst concavity  \\\n",
       "0             0.16220            0.66560           0.7119   \n",
       "1             0.12380            0.18660           0.2416   \n",
       "2             0.14440            0.42450           0.4504   \n",
       "3             0.20980            0.86630           0.6869   \n",
       "4             0.13740            0.20500           0.4000   \n",
       "..                ...                ...              ...   \n",
       "564           0.14100            0.21130           0.4107   \n",
       "565           0.11660            0.19220           0.3215   \n",
       "566           0.11390            0.30940           0.3403   \n",
       "567           0.16500            0.86810           0.9387   \n",
       "568           0.08996            0.06444           0.0000   \n",
       "\n",
       "     worst concave points  worst symmetry  worst fractal dimension  label  \n",
       "0                  0.2654          0.4601                  0.11890      0  \n",
       "1                  0.1860          0.2750                  0.08902      0  \n",
       "2                  0.2430          0.3613                  0.08758      0  \n",
       "3                  0.2575          0.6638                  0.17300      0  \n",
       "4                  0.1625          0.2364                  0.07678      0  \n",
       "..                    ...             ...                      ...    ...  \n",
       "564                0.2216          0.2060                  0.07115      0  \n",
       "565                0.1628          0.2572                  0.06637      0  \n",
       "566                0.1418          0.2218                  0.07820      0  \n",
       "567                0.2650          0.4087                  0.12400      0  \n",
       "568                0.0000          0.2871                  0.07039      1  \n",
       "\n",
       "[569 rows x 31 columns]"
      ]
     },
     "execution_count": 1,
     "metadata": {},
     "output_type": "execute_result"
    }
   ],
   "source": [
    "import pandas as pd\n",
    "import numpy as np\n",
    "import matplotlib.pyplot as plt\n",
    "\n",
    "from sklearn.model_selection import train_test_split\n",
    "from sklearn.preprocessing import StandardScaler\n",
    "\n",
    "from sklearn.linear_model import LogisticRegression\n",
    "from sklearn.neighbors import KNeighborsClassifier\n",
    "from sklearn.svm import SVC\n",
    "from sklearn.naive_bayes import GaussianNB\n",
    "from sklearn.tree import DecisionTreeClassifier, DecisionTreeRegressor\n",
    "from sklearn.ensemble import VotingClassifier, StackingClassifier, BaggingClassifier, RandomForestClassifier\n",
    "from sklearn.ensemble import AdaBoostClassifier, GradientBoostingRegressor\n",
    "\n",
    "from sklearn.datasets import load_breast_cancer\n",
    "cancer = load_breast_cancer()\n",
    "\n",
    "data = pd.DataFrame(cancer['data'], columns = cancer['feature_names']) \n",
    "data[\"label\"] = cancer[\"target\"]\n",
    "data"
   ]
  },
  {
   "cell_type": "code",
   "execution_count": 2,
   "id": "c7b0ef83",
   "metadata": {},
   "outputs": [],
   "source": [
    "X = data.drop(columns=[\"label\"])\n",
    "y = data[\"label\"]"
   ]
  },
  {
   "cell_type": "code",
   "execution_count": 3,
   "id": "2f7d1678",
   "metadata": {},
   "outputs": [],
   "source": [
    "X_train, X_test, y_train, y_test = train_test_split(X, y, test_size=0.25, random_state=1)"
   ]
  },
  {
   "cell_type": "code",
   "execution_count": 4,
   "id": "39d35b43",
   "metadata": {},
   "outputs": [],
   "source": [
    "scaler = StandardScaler().fit(X_train)\n",
    "X_train_scaled = scaler.transform(X_train)\n",
    "\n",
    "X_test_scaled = scaler.transform(X_test)"
   ]
  },
  {
   "cell_type": "markdown",
   "id": "85250531",
   "metadata": {},
   "source": [
    "# Simple Ensemble Learning: Majority Voting"
   ]
  },
  {
   "cell_type": "code",
   "execution_count": 5,
   "id": "733c3d7f",
   "metadata": {},
   "outputs": [
    {
     "name": "stdout",
     "output_type": "stream",
     "text": [
      "DT Training accuracy: 1.0\n",
      "DT Test accuracy: 0.9300699300699301 \n",
      "\n",
      "SVM Training accuracy: 0.8450704225352113\n",
      "SVM Test accuracy: 0.8181818181818182 \n",
      "\n",
      "GaussianNB Training accuracy: 0.9342723004694836\n",
      "GaussianNB Test accuracy: 0.9440559440559441 \n",
      "\n",
      "Voting Classfier Training accuracy: 0.960093896713615\n",
      "Voting Classfier Test accuracy: 0.951048951048951 \n",
      "\n"
     ]
    }
   ],
   "source": [
    "clf1 = DecisionTreeClassifier(random_state=1)\n",
    "clf2 = SVC(kernel='poly', degree=2)\n",
    "clf3 = GaussianNB()\n",
    "\n",
    "VC = VotingClassifier(estimators=[('DT', clf1),\n",
    "                                  ('SVM', clf2),\n",
    "                                  ('GuassiaNB', clf3)], \n",
    "                      voting='hard')\n",
    "\n",
    "for clf, name in zip([clf1, clf2, clf3, VC], ['DT', 'SVM', 'GaussianNB', 'Voting Classfier']):\n",
    "    clf.fit(X_train_scaled, y_train)\n",
    "    print(name,'Training accuracy:', clf.score(X_train_scaled, y_train))\n",
    "    print(name, 'Test accuracy:', clf.score(X_test_scaled, y_test), '\\n')"
   ]
  },
  {
   "cell_type": "markdown",
   "id": "1b656092",
   "metadata": {},
   "source": [
    "# Stacking"
   ]
  },
  {
   "cell_type": "code",
   "execution_count": 6,
   "id": "84f1da26",
   "metadata": {},
   "outputs": [
    {
     "name": "stdout",
     "output_type": "stream",
     "text": [
      "DT Training accuracy: 1.0\n",
      "DT Test accuracy: 0.9300699300699301 \n",
      "\n",
      "SVM Training accuracy: 0.8450704225352113\n",
      "SVM Test accuracy: 0.8181818181818182 \n",
      "\n",
      "GaussianNB Training accuracy: 0.9342723004694836\n",
      "GaussianNB Test accuracy: 0.9440559440559441 \n",
      "\n",
      "Stacking Classfier Training accuracy: 0.9929577464788732\n",
      "Stacking Classfier Test accuracy: 0.9790209790209791 \n",
      "\n"
     ]
    }
   ],
   "source": [
    "clf1 = DecisionTreeClassifier(random_state=1)\n",
    "clf2 = SVC(kernel='poly', degree=2)\n",
    "clf3 = GaussianNB()\n",
    "\n",
    "SC = StackingClassifier(estimators=[('DT', clf1),\n",
    "                                    ('SVM', clf2),\n",
    "                                    ('GaussianNB', clf3)], \n",
    "                        final_estimator=LogisticRegression(max_iter=500),\n",
    "                        cv=10,\n",
    "                        passthrough=True)\n",
    "\n",
    "for clf, name in zip([clf1, clf2, clf3, SC], ['DT', 'SVM', 'GaussianNB', 'Stacking Classfier']):\n",
    "    clf.fit(X_train_scaled, y_train)\n",
    "    print(name,'Training accuracy:', clf.score(X_train_scaled, y_train))\n",
    "    print(name, 'Test accuracy:', clf.score(X_test_scaled, y_test), '\\n')"
   ]
  },
  {
   "cell_type": "markdown",
   "id": "61c9ffab",
   "metadata": {},
   "source": [
    "# A Single Decision Tree Classifier"
   ]
  },
  {
   "cell_type": "code",
   "execution_count": 7,
   "id": "5773f9f2",
   "metadata": {},
   "outputs": [
    {
     "name": "stdout",
     "output_type": "stream",
     "text": [
      "Decision Stump Training accuracy: 0.9342723004694836\n",
      "Decision Stump Testing accuracy: 0.8741258741258742\n"
     ]
    }
   ],
   "source": [
    "# We create a stump, which is a decision tree consisiting of a root and two leaves\n",
    "\n",
    "stump = DecisionTreeClassifier(max_depth=1)\n",
    "\n",
    "stump.fit(X_train, y_train)\n",
    "\n",
    "print('Decision Stump Training accuracy:', stump.score(X_train, y_train))\n",
    "print('Decision Stump Testing accuracy:', stump.score(X_test, y_test))"
   ]
  },
  {
   "cell_type": "code",
   "execution_count": 8,
   "id": "86e8d2e6",
   "metadata": {},
   "outputs": [
    {
     "name": "stdout",
     "output_type": "stream",
     "text": [
      "Decision Tree Training accuracy: 1.0\n",
      "Decision Tree Testing accuracy: 0.9300699300699301\n"
     ]
    }
   ],
   "source": [
    "# We create a fully grown decision tree\n",
    "\n",
    "DT = DecisionTreeClassifier(random_state=1)\n",
    "\n",
    "DT.fit(X_train, y_train)\n",
    "\n",
    "print('Decision Tree Training accuracy:', DT.score(X_train, y_train))\n",
    "print('Decision Tree Testing accuracy:', DT.score(X_test, y_test))"
   ]
  },
  {
   "cell_type": "markdown",
   "id": "a3721487",
   "metadata": {},
   "source": [
    "# Bagging "
   ]
  },
  {
   "cell_type": "code",
   "execution_count": 9,
   "id": "6dc93691",
   "metadata": {},
   "outputs": [
    {
     "name": "stdout",
     "output_type": "stream",
     "text": [
      "Training accuracy: 0.9835680751173709\n",
      "Testing accuracy: 0.951048951048951\n"
     ]
    }
   ],
   "source": [
    "BG = BaggingClassifier(DecisionTreeClassifier(max_depth=None, random_state=1), \n",
    "                       max_samples= 0.5, \n",
    "                       n_estimators = 10,\n",
    "                       random_state=0)\n",
    "\n",
    "BG.fit(X_train,y_train)\n",
    "\n",
    "print('Training accuracy:', BG.score(X_train, y_train))\n",
    "print('Testing accuracy:', BG.score(X_test, y_test))"
   ]
  },
  {
   "cell_type": "markdown",
   "id": "cc82a50b",
   "metadata": {},
   "source": [
    "# Random Forest"
   ]
  },
  {
   "cell_type": "code",
   "execution_count": 10,
   "id": "1eb77d35",
   "metadata": {},
   "outputs": [
    {
     "name": "stdout",
     "output_type": "stream",
     "text": [
      "Training accuracy: 0.9976525821596244\n",
      "Testing accuracy: 0.951048951048951\n"
     ]
    }
   ],
   "source": [
    "RF = RandomForestClassifier(max_depth=None, n_estimators = 10,\n",
    "                            random_state=1)\n",
    "\n",
    "RF.fit(X_train, y_train)\n",
    "\n",
    "print('Training accuracy:', RF.score(X_train, y_train))\n",
    "print('Testing accuracy:', RF.score(X_test, y_test))"
   ]
  },
  {
   "cell_type": "markdown",
   "id": "78c572c4",
   "metadata": {},
   "source": [
    "# AdaBoost "
   ]
  },
  {
   "cell_type": "code",
   "execution_count": 11,
   "id": "43a7d64d",
   "metadata": {},
   "outputs": [
    {
     "name": "stdout",
     "output_type": "stream",
     "text": [
      "Training accuracy: 0.9859154929577465\n",
      "Testing accuracy: 0.958041958041958\n"
     ]
    }
   ],
   "source": [
    "adaboost = AdaBoostClassifier(DecisionTreeClassifier(max_depth=1, random_state=1),\n",
    "                              n_estimators=10,\n",
    "                              learning_rate=0.9)\n",
    "\n",
    "adaboost.fit(X_train, y_train)\n",
    "\n",
    "print('Training accuracy:', adaboost.score(X_train, y_train))\n",
    "print('Testing accuracy:', adaboost.score(X_test, y_test))"
   ]
  },
  {
   "cell_type": "code",
   "execution_count": 12,
   "id": "192aab8b",
   "metadata": {},
   "outputs": [
    {
     "data": {
      "image/png": "[encoded data removed]",
      "text/plain": [
       "<Figure size 576x288 with 1 Axes>"
      ]
     },
     "metadata": {
      "needs_background": "light"
     },
     "output_type": "display_data"
    }
   ],
   "source": [
    "importance = adaboost.feature_importances_\n",
    "\n",
    "plt.figure(figsize=(8,4))\n",
    "\n",
    "position = range(len(importance))\n",
    "plt.bar(position, importance)\n",
    "plt.xticks(position, cancer['feature_names'], rotation=90);"
   ]
  },
  {
   "cell_type": "markdown",
   "id": "552206fc",
   "metadata": {},
   "source": [
    "# Gradient Boosting\n",
    "\n",
    "The main idea is to build models sequentially by creating a new model on the errors or residuals of the previous model."
   ]
  },
  {
   "cell_type": "code",
   "execution_count": 13,
   "id": "934b6c35",
   "metadata": {},
   "outputs": [
    {
     "data": {
      "image/png": "[encoded data removed]",
      "text/plain": [
       "<Figure size 432x288 with 1 Axes>"
      ]
     },
     "metadata": {
      "needs_background": "light"
     },
     "output_type": "display_data"
    }
   ],
   "source": [
    "X = np.linspace(-1, 1, 100)\n",
    "y = X**4 + np.random.normal(-0.15, 0.15, 100)\n",
    "\n",
    "plt.scatter(X, y, s=10)\n",
    "plt.title(\"Data observations\", fontsize=14);"
   ]
  },
  {
   "cell_type": "code",
   "execution_count": 14,
   "id": "be110766",
   "metadata": {},
   "outputs": [
    {
     "data": {
      "text/plain": [
       "array([-1.        , -0.97979798, -0.95959596, -0.93939394, -0.91919192,\n",
       "       -0.8989899 , -0.87878788, -0.85858586, -0.83838384, -0.81818182,\n",
       "       -0.7979798 , -0.77777778, -0.75757576, -0.73737374, -0.71717172,\n",
       "       -0.6969697 , -0.67676768, -0.65656566, -0.63636364, -0.61616162,\n",
       "       -0.5959596 , -0.57575758, -0.55555556, -0.53535354, -0.51515152,\n",
       "       -0.49494949, -0.47474747, -0.45454545, -0.43434343, -0.41414141,\n",
       "       -0.39393939, -0.37373737, -0.35353535, -0.33333333, -0.31313131,\n",
       "       -0.29292929, -0.27272727, -0.25252525, -0.23232323, -0.21212121,\n",
       "       -0.19191919, -0.17171717, -0.15151515, -0.13131313, -0.11111111,\n",
       "       -0.09090909, -0.07070707, -0.05050505, -0.03030303, -0.01010101,\n",
       "        0.01010101,  0.03030303,  0.05050505,  0.07070707,  0.09090909,\n",
       "        0.11111111,  0.13131313,  0.15151515,  0.17171717,  0.19191919,\n",
       "        0.21212121,  0.23232323,  0.25252525,  0.27272727,  0.29292929,\n",
       "        0.31313131,  0.33333333,  0.35353535,  0.37373737,  0.39393939,\n",
       "        0.41414141,  0.43434343,  0.45454545,  0.47474747,  0.49494949,\n",
       "        0.51515152,  0.53535354,  0.55555556,  0.57575758,  0.5959596 ,\n",
       "        0.61616162,  0.63636364,  0.65656566,  0.67676768,  0.6969697 ,\n",
       "        0.71717172,  0.73737374,  0.75757576,  0.77777778,  0.7979798 ,\n",
       "        0.81818182,  0.83838384,  0.85858586,  0.87878788,  0.8989899 ,\n",
       "        0.91919192,  0.93939394,  0.95959596,  0.97979798,  1.        ])"
      ]
     },
     "execution_count": 14,
     "metadata": {},
     "output_type": "execute_result"
    }
   ],
   "source": [
    "X"
   ]
  },
  {
   "cell_type": "code",
   "execution_count": 15,
   "id": "d129d859",
   "metadata": {},
   "outputs": [
    {
     "data": {
      "text/plain": [
       "array([[-1.        ],\n",
       "       [-0.97979798],\n",
       "       [-0.95959596],\n",
       "       [-0.93939394],\n",
       "       [-0.91919192],\n",
       "       [-0.8989899 ],\n",
       "       [-0.87878788],\n",
       "       [-0.85858586],\n",
       "       [-0.83838384],\n",
       "       [-0.81818182],\n",
       "       [-0.7979798 ],\n",
       "       [-0.77777778],\n",
       "       [-0.75757576],\n",
       "       [-0.73737374],\n",
       "       [-0.71717172],\n",
       "       [-0.6969697 ],\n",
       "       [-0.67676768],\n",
       "       [-0.65656566],\n",
       "       [-0.63636364],\n",
       "       [-0.61616162],\n",
       "       [-0.5959596 ],\n",
       "       [-0.57575758],\n",
       "       [-0.55555556],\n",
       "       [-0.53535354],\n",
       "       [-0.51515152],\n",
       "       [-0.49494949],\n",
       "       [-0.47474747],\n",
       "       [-0.45454545],\n",
       "       [-0.43434343],\n",
       "       [-0.41414141],\n",
       "       [-0.39393939],\n",
       "       [-0.37373737],\n",
       "       [-0.35353535],\n",
       "       [-0.33333333],\n",
       "       [-0.31313131],\n",
       "       [-0.29292929],\n",
       "       [-0.27272727],\n",
       "       [-0.25252525],\n",
       "       [-0.23232323],\n",
       "       [-0.21212121],\n",
       "       [-0.19191919],\n",
       "       [-0.17171717],\n",
       "       [-0.15151515],\n",
       "       [-0.13131313],\n",
       "       [-0.11111111],\n",
       "       [-0.09090909],\n",
       "       [-0.07070707],\n",
       "       [-0.05050505],\n",
       "       [-0.03030303],\n",
       "       [-0.01010101],\n",
       "       [ 0.01010101],\n",
       "       [ 0.03030303],\n",
       "       [ 0.05050505],\n",
       "       [ 0.07070707],\n",
       "       [ 0.09090909],\n",
       "       [ 0.11111111],\n",
       "       [ 0.13131313],\n",
       "       [ 0.15151515],\n",
       "       [ 0.17171717],\n",
       "       [ 0.19191919],\n",
       "       [ 0.21212121],\n",
       "       [ 0.23232323],\n",
       "       [ 0.25252525],\n",
       "       [ 0.27272727],\n",
       "       [ 0.29292929],\n",
       "       [ 0.31313131],\n",
       "       [ 0.33333333],\n",
       "       [ 0.35353535],\n",
       "       [ 0.37373737],\n",
       "       [ 0.39393939],\n",
       "       [ 0.41414141],\n",
       "       [ 0.43434343],\n",
       "       [ 0.45454545],\n",
       "       [ 0.47474747],\n",
       "       [ 0.49494949],\n",
       "       [ 0.51515152],\n",
       "       [ 0.53535354],\n",
       "       [ 0.55555556],\n",
       "       [ 0.57575758],\n",
       "       [ 0.5959596 ],\n",
       "       [ 0.61616162],\n",
       "       [ 0.63636364],\n",
       "       [ 0.65656566],\n",
       "       [ 0.67676768],\n",
       "       [ 0.6969697 ],\n",
       "       [ 0.71717172],\n",
       "       [ 0.73737374],\n",
       "       [ 0.75757576],\n",
       "       [ 0.77777778],\n",
       "       [ 0.7979798 ],\n",
       "       [ 0.81818182],\n",
       "       [ 0.83838384],\n",
       "       [ 0.85858586],\n",
       "       [ 0.87878788],\n",
       "       [ 0.8989899 ],\n",
       "       [ 0.91919192],\n",
       "       [ 0.93939394],\n",
       "       [ 0.95959596],\n",
       "       [ 0.97979798],\n",
       "       [ 1.        ]])"
      ]
     },
     "execution_count": 15,
     "metadata": {},
     "output_type": "execute_result"
    }
   ],
   "source": [
    "X_new = X.reshape(-1, 1)\n",
    "X_new"
   ]
  },
  {
   "cell_type": "code",
   "execution_count": 26,
   "id": "d8a9c075",
   "metadata": {},
   "outputs": [
    {
     "data": {
      "image/png": "[encoded data removed]",
      "text/plain": [
       "<Figure size 432x288 with 1 Axes>"
      ]
     },
     "metadata": {
      "needs_background": "light"
     },
     "output_type": "display_data"
    }
   ],
   "source": [
    "dtr1 = DecisionTreeRegressor(max_depth=2, random_state=42)\n",
    "dtr1.fit(X_new, y)\n",
    "\n",
    "plt.scatter(X, y, s=10)\n",
    "plt.plot(X, dtr1.predict(X_new), color=\"red\")\n",
    "plt.title(\"Data observations and regressor $h_1(x)$\", fontsize=14);"
   ]
  },
  {
   "cell_type": "code",
   "execution_count": 27,
   "id": "008efd53",
   "metadata": {},
   "outputs": [
    {
     "data": {
      "image/png": "[encoded data removed]",
      "text/plain": [
       "<Figure size 432x288 with 1 Axes>"
      ]
     },
     "metadata": {
      "needs_background": "light"
     },
     "output_type": "display_data"
    }
   ],
   "source": [
    "y2 = y - dtr1.predict(X_new)\n",
    "plt.scatter(X, y2, color=\"green\", s=10)\n",
    "plt.title(\"Residuals $y-h_1$(x)\", fontsize=14);"
   ]
  },
  {
   "cell_type": "code",
   "execution_count": 28,
   "id": "3a2ff703",
   "metadata": {},
   "outputs": [
    {
     "data": {
      "image/png": "[encoded data removed]",
      "text/plain": [
       "<Figure size 432x288 with 1 Axes>"
      ]
     },
     "metadata": {
      "needs_background": "light"
     },
     "output_type": "display_data"
    }
   ],
   "source": [
    "dtr2 = DecisionTreeRegressor(max_depth=2, random_state=42)\n",
    "dtr2.fit(X_new, y2)\n",
    "\n",
    "plt.scatter(X, y2, color=\"green\", s=10)\n",
    "plt.plot(X, dtr2.predict(X_new), color=\"red\")\n",
    "plt.title(\"Residuals $y-h_1$(x) and regressor $h_2(x)$\", fontsize=14);"
   ]
  },
  {
   "cell_type": "code",
   "execution_count": 29,
   "id": "9aaa4f85",
   "metadata": {},
   "outputs": [
    {
     "data": {
      "image/png": "[encoded data removed]",
      "text/plain": [
       "<Figure size 432x288 with 1 Axes>"
      ]
     },
     "metadata": {
      "needs_background": "light"
     },
     "output_type": "display_data"
    }
   ],
   "source": [
    "plt.scatter(X, y, s=10)\n",
    "plt.plot(X, dtr1.predict(X_new)+dtr2.predict(X_new), color=\"red\");\n",
    "plt.title(\"Data observations and regressor $h_1(x)+h_2(x)$\", fontsize=14);"
   ]
  },
  {
   "cell_type": "code",
   "execution_count": 30,
   "id": "424d6943",
   "metadata": {},
   "outputs": [
    {
     "data": {
      "image/png": "[encoded data removed]",
      "text/plain": [
       "<Figure size 1080x360 with 2 Axes>"
      ]
     },
     "metadata": {
      "needs_background": "light"
     },
     "output_type": "display_data"
    }
   ],
   "source": [
    "y3 = y2 - dtr2.predict(X_new)\n",
    "\n",
    "dtr3 = DecisionTreeRegressor(max_depth=2, random_state=42)\n",
    "dtr3.fit(X_new, y3)\n",
    "\n",
    "fig, (ax1, ax2) = plt.subplots(1, 2, figsize=(15, 5))\n",
    "\n",
    "ax1.scatter(X, y3, color=\"green\", s=10)\n",
    "ax1.plot(X, dtr3.predict(X_new), color=\"red\")\n",
    "ax1.set_title(\"Residuals $y-h_1(x)-h_2(x)$ and regressor $h_3(x)$\", fontsize=14);\n",
    "\n",
    "fig.subplots_adjust(wspace=0.5)\n",
    "\n",
    "ax2.scatter(X, y, s=10)\n",
    "ax2.plot(X, dtr1.predict(X_new)+dtr2.predict(X_new)+dtr3.predict(X_new), color=\"red\");\n",
    "ax2.set_title(\"Data observations and regressor $h_1(x) + h_2(x) + h_3(x)$\", fontsize=14);"
   ]
  },
  {
   "cell_type": "code",
   "execution_count": 31,
   "id": "afabd425",
   "metadata": {},
   "outputs": [
    {
     "data": {
      "image/png": "[encoded data removed]",
      "text/plain": [
       "<Figure size 1080x360 with 2 Axes>"
      ]
     },
     "metadata": {
      "needs_background": "light"
     },
     "output_type": "display_data"
    }
   ],
   "source": [
    "y4 = y3 - dtr3.predict(X_new)\n",
    "\n",
    "dtr4 = DecisionTreeRegressor(max_depth=2, random_state=42)\n",
    "dtr4.fit(X_new, y4)\n",
    "\n",
    "fig, (ax1, ax2) = plt.subplots(1, 2, figsize=(15, 5))\n",
    "\n",
    "ax1.scatter(X, y4, color=\"green\", s=10)\n",
    "ax1.plot(X, dtr3.predict(X_new), color=\"red\")\n",
    "ax1.set_title(\"Residuals $y-h_1(x)-h_2(x)-h_3(x)$ and regressor $h_4(x)$\", fontsize=14);\n",
    "\n",
    "fig.subplots_adjust(wspace=0.5)\n",
    "\n",
    "ax2.scatter(X, y, s=10)\n",
    "ax2.plot(X, dtr1.predict(X_new)+dtr2.predict(X_new)+dtr3.predict(X_new)+dtr4.predict(X_new), color=\"red\");\n",
    "ax2.set_title(\"Data observations and regressor $h_1(x) + h_2(x) + h_3(x) + h_4(x)$\", fontsize=14);"
   ]
  },
  {
   "cell_type": "code",
   "execution_count": 32,
   "id": "43d75e2d",
   "metadata": {},
   "outputs": [
    {
     "data": {
      "text/plain": [
       "GradientBoostingRegressor(learning_rate=1, max_depth=2, n_estimators=4)"
      ]
     },
     "execution_count": 32,
     "metadata": {},
     "output_type": "execute_result"
    }
   ],
   "source": [
    "GBR = GradientBoostingRegressor(max_depth=2, n_estimators=4, learning_rate=1)\n",
    "GBR.fit(X_new, y)"
   ]
  },
  {
   "cell_type": "code",
   "execution_count": 33,
   "id": "009fb471",
   "metadata": {},
   "outputs": [
    {
     "data": {
      "image/png": "[encoded data removed]",
      "text/plain": [
       "<Figure size 432x288 with 1 Axes>"
      ]
     },
     "metadata": {
      "needs_background": "light"
     },
     "output_type": "display_data"
    }
   ],
   "source": [
    "plt.scatter(X, y, s=10)\n",
    "\n",
    "plt.plot(X, GBR.predict(X_new), color = \"red\")\n",
    "plt.title(\"Data observations and regressor $H(x)=\\sum_{i=1}^{4}h_i(x)$\", fontsize=14);"
   ]
  },
  {
   "cell_type": "code",
   "execution_count": 34,
   "id": "ffbdaa80",
   "metadata": {},
   "outputs": [],
   "source": [
    "from sklearn.metrics import mean_squared_error, r2_score\n",
    "\n",
    "from sklearn.datasets import load_boston\n",
    "\n",
    "import warnings\n",
    "warnings.filterwarnings('ignore')"
   ]
  },
  {
   "cell_type": "code",
   "execution_count": 35,
   "id": "3e8f859d",
   "metadata": {},
   "outputs": [],
   "source": [
    "boston = load_boston()"
   ]
  },
  {
   "cell_type": "code",
   "execution_count": 36,
   "id": "22f20481",
   "metadata": {},
   "outputs": [],
   "source": [
    "X = pd.DataFrame(boston.data, columns=boston.feature_names)\n",
    "y = boston.target"
   ]
  },
  {
   "cell_type": "code",
   "execution_count": 37,
   "id": "6f3a07c1",
   "metadata": {},
   "outputs": [
    {
     "data": {
      "text/html": [
       "<div>\n",
       "<style scoped>\n",
       "    .dataframe tbody tr th:only-of-type {\n",
       "        vertical-align: middle;\n",
       "    }\n",
       "\n",
       "    .dataframe tbody tr th {\n",
       "        vertical-align: top;\n",
       "    }\n",
       "\n",
       "    .dataframe thead th {\n",
       "        text-align: right;\n",
       "    }\n",
       "</style>\n",
       "<table border=\"1\" class=\"dataframe\">\n",
       "  <thead>\n",
       "    <tr style=\"text-align: right;\">\n",
       "      <th></th>\n",
       "      <th>CRIM</th>\n",
       "      <th>ZN</th>\n",
       "      <th>INDUS</th>\n",
       "      <th>CHAS</th>\n",
       "      <th>NOX</th>\n",
       "      <th>RM</th>\n",
       "      <th>AGE</th>\n",
       "      <th>DIS</th>\n",
       "      <th>RAD</th>\n",
       "      <th>TAX</th>\n",
       "      <th>PTRATIO</th>\n",
       "      <th>B</th>\n",
       "      <th>LSTAT</th>\n",
       "    </tr>\n",
       "  </thead>\n",
       "  <tbody>\n",
       "    <tr>\n",
       "      <th>0</th>\n",
       "      <td>0.00632</td>\n",
       "      <td>18.0</td>\n",
       "      <td>2.31</td>\n",
       "      <td>0.0</td>\n",
       "      <td>0.538</td>\n",
       "      <td>6.575</td>\n",
       "      <td>65.2</td>\n",
       "      <td>4.0900</td>\n",
       "      <td>1.0</td>\n",
       "      <td>296.0</td>\n",
       "      <td>15.3</td>\n",
       "      <td>396.90</td>\n",
       "      <td>4.98</td>\n",
       "    </tr>\n",
       "    <tr>\n",
       "      <th>1</th>\n",
       "      <td>0.02731</td>\n",
       "      <td>0.0</td>\n",
       "      <td>7.07</td>\n",
       "      <td>0.0</td>\n",
       "      <td>0.469</td>\n",
       "      <td>6.421</td>\n",
       "      <td>78.9</td>\n",
       "      <td>4.9671</td>\n",
       "      <td>2.0</td>\n",
       "      <td>242.0</td>\n",
       "      <td>17.8</td>\n",
       "      <td>396.90</td>\n",
       "      <td>9.14</td>\n",
       "    </tr>\n",
       "    <tr>\n",
       "      <th>2</th>\n",
       "      <td>0.02729</td>\n",
       "      <td>0.0</td>\n",
       "      <td>7.07</td>\n",
       "      <td>0.0</td>\n",
       "      <td>0.469</td>\n",
       "      <td>7.185</td>\n",
       "      <td>61.1</td>\n",
       "      <td>4.9671</td>\n",
       "      <td>2.0</td>\n",
       "      <td>242.0</td>\n",
       "      <td>17.8</td>\n",
       "      <td>392.83</td>\n",
       "      <td>4.03</td>\n",
       "    </tr>\n",
       "    <tr>\n",
       "      <th>3</th>\n",
       "      <td>0.03237</td>\n",
       "      <td>0.0</td>\n",
       "      <td>2.18</td>\n",
       "      <td>0.0</td>\n",
       "      <td>0.458</td>\n",
       "      <td>6.998</td>\n",
       "      <td>45.8</td>\n",
       "      <td>6.0622</td>\n",
       "      <td>3.0</td>\n",
       "      <td>222.0</td>\n",
       "      <td>18.7</td>\n",
       "      <td>394.63</td>\n",
       "      <td>2.94</td>\n",
       "    </tr>\n",
       "    <tr>\n",
       "      <th>4</th>\n",
       "      <td>0.06905</td>\n",
       "      <td>0.0</td>\n",
       "      <td>2.18</td>\n",
       "      <td>0.0</td>\n",
       "      <td>0.458</td>\n",
       "      <td>7.147</td>\n",
       "      <td>54.2</td>\n",
       "      <td>6.0622</td>\n",
       "      <td>3.0</td>\n",
       "      <td>222.0</td>\n",
       "      <td>18.7</td>\n",
       "      <td>396.90</td>\n",
       "      <td>5.33</td>\n",
       "    </tr>\n",
       "  </tbody>\n",
       "</table>\n",
       "</div>"
      ],
      "text/plain": [
       "      CRIM    ZN  INDUS  CHAS    NOX     RM   AGE     DIS  RAD    TAX  \\\n",
       "0  0.00632  18.0   2.31   0.0  0.538  6.575  65.2  4.0900  1.0  296.0   \n",
       "1  0.02731   0.0   7.07   0.0  0.469  6.421  78.9  4.9671  2.0  242.0   \n",
       "2  0.02729   0.0   7.07   0.0  0.469  7.185  61.1  4.9671  2.0  242.0   \n",
       "3  0.03237   0.0   2.18   0.0  0.458  6.998  45.8  6.0622  3.0  222.0   \n",
       "4  0.06905   0.0   2.18   0.0  0.458  7.147  54.2  6.0622  3.0  222.0   \n",
       "\n",
       "   PTRATIO       B  LSTAT  \n",
       "0     15.3  396.90   4.98  \n",
       "1     17.8  396.90   9.14  \n",
       "2     17.8  392.83   4.03  \n",
       "3     18.7  394.63   2.94  \n",
       "4     18.7  396.90   5.33  "
      ]
     },
     "execution_count": 37,
     "metadata": {},
     "output_type": "execute_result"
    }
   ],
   "source": [
    "X.head()"
   ]
  },
  {
   "cell_type": "code",
   "execution_count": 38,
   "id": "425628ed",
   "metadata": {},
   "outputs": [
    {
     "data": {
      "text/plain": [
       "array([24. , 21.6, 34.7, 33.4, 36.2])"
      ]
     },
     "execution_count": 38,
     "metadata": {},
     "output_type": "execute_result"
    }
   ],
   "source": [
    "y[:5]"
   ]
  },
  {
   "cell_type": "code",
   "execution_count": 39,
   "id": "3d9cc16a",
   "metadata": {},
   "outputs": [],
   "source": [
    "X_train, X_test, y_train, y_test = train_test_split(X, y, test_size=0.2)"
   ]
  },
  {
   "cell_type": "code",
   "execution_count": 40,
   "id": "bbf08f6d",
   "metadata": {},
   "outputs": [],
   "source": [
    "GBR = GradientBoostingRegressor(max_depth=2, n_estimators=3, learning_rate=1.0)\n",
    "\n",
    "model = GBR.fit(X_train, y_train)\n",
    "\n",
    "y_pred = model.predict(X_test)"
   ]
  },
  {
   "cell_type": "code",
   "execution_count": 41,
   "id": "adbd9edb",
   "metadata": {},
   "outputs": [
    {
     "data": {
      "text/plain": [
       "0.32724120361188114"
      ]
     },
     "execution_count": 41,
     "metadata": {},
     "output_type": "execute_result"
    }
   ],
   "source": [
    "r2_score(y_pred, y_test)"
   ]
  },
  {
   "cell_type": "code",
   "execution_count": 42,
   "id": "4db3978f",
   "metadata": {},
   "outputs": [
    {
     "data": {
      "text/plain": [
       "(0.8537859004901479, {'learning_rate': 0.1, 'n_estimators': 250})"
      ]
     },
     "execution_count": 42,
     "metadata": {},
     "output_type": "execute_result"
    }
   ],
   "source": [
    "from sklearn.model_selection import GridSearchCV\n",
    "\n",
    "GSGBR = GridSearchCV(estimator = GradientBoostingRegressor(),\n",
    "                     param_grid = {'learning_rate': [0.05, 0.10, 0.15],\n",
    "                                   'n_estimators': [100, 150, 200, 250]},\n",
    "                     scoring = 'r2')\n",
    "\n",
    "GSGBR.fit(X_train, y_train)\n",
    "\n",
    "GSGBR.best_score_, GSGBR.best_params_"
   ]
  },
  {
   "cell_type": "code",
   "execution_count": null,
   "id": "5a2fbb43",
   "metadata": {},
   "outputs": [],
   "source": []
  },
  {
   "cell_type": "code",
   "execution_count": null,
   "id": "30bb3ab5",
   "metadata": {},
   "outputs": [],
   "source": []
  }
 ],
 "metadata": {
  "kernelspec": {
   "display_name": "Python 3 (ipykernel)",
   "language": "python",
   "name": "python3"
  },
  "language_info": {
   "codemirror_mode": {
    "name": "ipython",
    "version": 3
   },
   "file_extension": ".py",
   "mimetype": "text/x-python",
   "name": "python",
   "nbconvert_exporter": "python",
   "pygments_lexer": "ipython3",
   "version": "3.9.12"
  }
 },
 "nbformat": 4,
 "nbformat_minor": 5
}
