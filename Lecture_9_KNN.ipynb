{
 "cells": [
  {
   "cell_type": "markdown",
   "id": "a4c37e80",
   "metadata": {},
   "source": [
    "# K-Nearest Neighbors Algorithm (Classification)\n",
    "\n",
    " 1) Create a K-NN model from scratch \n",
    "\n",
    " 2) Use sklearn to implement K-NN \n",
    " \n",
    " 3) Use sklearn to implement K-NN; use GridSearchCV and RandomizedSearchCV to select hyper-parameters\n",
    " \n",
    " 4) Use sklearn to implement K-NN and mlxtend to plot the desicion boundary"
   ]
  },
  {
   "cell_type": "markdown",
   "id": "ba86dfb4",
   "metadata": {},
   "source": [
    "## 1) Create a K-NN model from scratch "
   ]
  },
  {
   "cell_type": "code",
   "execution_count": 1,
   "id": "5dc40bea",
   "metadata": {},
   "outputs": [],
   "source": [
    "import numpy as np\n",
    "import pandas as pd\n",
    "import matplotlib.pyplot as plt\n",
    "import seaborn as sns\n",
    "\n",
    "from sklearn.model_selection import train_test_split"
   ]
  },
  {
   "cell_type": "code",
   "execution_count": 2,
   "id": "3a544496",
   "metadata": {},
   "outputs": [],
   "source": [
    "df = sns.load_dataset(\"iris\")"
   ]
  },
  {
   "cell_type": "code",
   "execution_count": 3,
   "id": "d1afd9d3",
   "metadata": {},
   "outputs": [
    {
     "data": {
      "image/png": "[encoded data removed]",
      "text/plain": [
       "<Figure size 576x432 with 1 Axes>"
      ]
     },
     "metadata": {
      "needs_background": "light"
     },
     "output_type": "display_data"
    }
   ],
   "source": [
    "df1 = df[df.species==\"setosa\"]\n",
    "df2 = df[df.species==\"versicolor\"]\n",
    "df3 = df[df.species==\"virginica\"]\n",
    "\n",
    "plt.figure(figsize = (8, 6))\n",
    "\n",
    "plt.scatter(df1.sepal_length, df1.sepal_width, color=\"red\", label =\"setosa\")\n",
    "plt.scatter(df2.sepal_length, df2.sepal_width, color=\"blue\", label=\"versicolor\")\n",
    "plt.scatter(df3.sepal_length, df3.sepal_width, color=\"green\", label=\"virginica\")\n",
    "plt.xlabel(\"sepal length\", fontsize=15)\n",
    "plt.ylabel(\"sepal width\", fontsize=15)\n",
    "plt.legend(fontsize=15);"
   ]
  },
  {
   "cell_type": "code",
   "execution_count": 4,
   "id": "e90bd57e",
   "metadata": {},
   "outputs": [],
   "source": [
    "X = df[[\"sepal_length\", \"sepal_width\"]].to_numpy()\n",
    "\n",
    "y = df[\"species\"].to_numpy()"
   ]
  },
  {
   "cell_type": "markdown",
   "id": "3a170a6c",
   "metadata": {},
   "source": [
    "---\n",
    "\n",
    "**Remark**: In machine learning we fit the model to the **training data** and we choose optimal hyper-parameters using the **validation data**. Then with those choices of hyper-parameters, we fit the model again to the training data, and we evaluate and report model prformance on the **test data**. \n",
    "\n",
    "---"
   ]
  },
  {
   "cell_type": "code",
   "execution_count": 5,
   "id": "f2f66f9d",
   "metadata": {},
   "outputs": [],
   "source": [
    "X_train_full, X_test, y_train_full, y_test = train_test_split(X, y, test_size=0.2, random_state=42)\n",
    "\n",
    "X_train, X_valid, y_train, y_valid = train_test_split(X_train_full, y_train_full, test_size=0.25, random_state=42)"
   ]
  },
  {
   "cell_type": "code",
   "execution_count": 6,
   "id": "347a4006",
   "metadata": {},
   "outputs": [
    {
     "data": {
      "text/plain": [
       "(90, 2)"
      ]
     },
     "execution_count": 6,
     "metadata": {},
     "output_type": "execute_result"
    }
   ],
   "source": [
    "X_train.shape"
   ]
  },
  {
   "cell_type": "code",
   "execution_count": 7,
   "id": "b147c4cc",
   "metadata": {},
   "outputs": [
    {
     "data": {
      "text/plain": [
       "(30, 2)"
      ]
     },
     "execution_count": 7,
     "metadata": {},
     "output_type": "execute_result"
    }
   ],
   "source": [
    "X_valid.shape"
   ]
  },
  {
   "cell_type": "code",
   "execution_count": 8,
   "id": "3957d655",
   "metadata": {},
   "outputs": [
    {
     "data": {
      "text/plain": [
       "(30, 2)"
      ]
     },
     "execution_count": 8,
     "metadata": {},
     "output_type": "execute_result"
    }
   ],
   "source": [
    "X_test.shape"
   ]
  },
  {
   "cell_type": "code",
   "execution_count": 9,
   "id": "82a54e52",
   "metadata": {},
   "outputs": [
    {
     "name": "stdout",
     "output_type": "stream",
     "text": [
      "The distance between X_train[0] and X_train[1] is 3.026549190084311\n"
     ]
    }
   ],
   "source": [
    "# We define Euclidean distance function\n",
    "\n",
    "def distance(p, q):\n",
    "    return np.sqrt((p - q) @ (p - q))\n",
    "\n",
    "print(f\"The distance between X_train[0] and X_train[1] is {distance(X_train[0], X_train[1])}\")"
   ]
  },
  {
   "cell_type": "code",
   "execution_count": 10,
   "id": "f8f58403",
   "metadata": {},
   "outputs": [],
   "source": [
    "# We define a function that will create a list of k nearest neighbors from the training data set to a given test point\n",
    "# For each such neighbor, this list will store: features of that neighbor, its label, and its distance to the test point\n",
    "\n",
    "def k_nearest_neighbors(point, \n",
    "                        training_features, \n",
    "                        training_labels, \n",
    "                        k):\n",
    "\n",
    "    neighbors = []\n",
    "    \n",
    "    for p, l in zip(training_features, training_labels):\n",
    "        d = distance(point, p)\n",
    "        info = [p, l, d]\n",
    "        neighbors.append(info)\n",
    "        \n",
    "    neighbors.sort(key = lambda x : x[-1])\n",
    "    \n",
    "    return neighbors[:k]"
   ]
  },
  {
   "cell_type": "code",
   "execution_count": 11,
   "id": "2cbb6c6a",
   "metadata": {},
   "outputs": [
    {
     "data": {
      "text/plain": [
       "[[array([6.1, 2.9]), 'versicolor', 0.09999999999999964],\n",
       " [array([6.1, 3. ]), 'versicolor', 0.1414213562373093],\n",
       " [array([5.9, 3. ]), 'virginica', 0.1414213562373093],\n",
       " [array([6.1, 2.8]), 'versicolor', 0.1414213562373093],\n",
       " [array([5.9, 3. ]), 'versicolor', 0.1414213562373093],\n",
       " [array([6.2, 2.9]), 'versicolor', 0.20000000000000018],\n",
       " [array([5.8, 2.8]), 'virginica', 0.22360679774997916]]"
      ]
     },
     "execution_count": 11,
     "metadata": {},
     "output_type": "execute_result"
    }
   ],
   "source": [
    "# Check the k_nearest_neighbors function for a test data point\n",
    "\n",
    "k_nearest_neighbors(X_test[3], X_train, y_train, 7)"
   ]
  },
  {
   "cell_type": "code",
   "execution_count": 12,
   "id": "c7619445",
   "metadata": {},
   "outputs": [
    {
     "data": {
      "text/plain": [
       "'versicolor'"
      ]
     },
     "execution_count": 12,
     "metadata": {},
     "output_type": "execute_result"
    }
   ],
   "source": [
    "y_test[3]"
   ]
  },
  {
   "cell_type": "code",
   "execution_count": 13,
   "id": "a42edadf",
   "metadata": {},
   "outputs": [],
   "source": [
    "# We write a function that makes prediction for both classification and regression\n",
    "\n",
    "def knn_predict(point, \n",
    "                training_features, \n",
    "                training_labels, \n",
    "                k, \n",
    "                regression = False):\n",
    "    \n",
    "    neighbors = k_nearest_neighbors(point, \n",
    "                                    training_features, \n",
    "                                    training_labels, \n",
    "                                    k)\n",
    "    \n",
    "    labels = [x[1] for x in neighbors]\n",
    "    \n",
    "    if regression == False:\n",
    "        return max(labels, key = labels.count)\n",
    "    else:\n",
    "        return sum(x[1] for x in labels)/k"
   ]
  },
  {
   "cell_type": "code",
   "execution_count": 14,
   "id": "9f7674e6",
   "metadata": {},
   "outputs": [
    {
     "data": {
      "text/plain": [
       "'setosa'"
      ]
     },
     "execution_count": 14,
     "metadata": {},
     "output_type": "execute_result"
    }
   ],
   "source": [
    "labels = ['setosa', 'setosa', 'virginica', 'setosa', 'virginica']\n",
    "max(labels, key = labels.count)"
   ]
  },
  {
   "cell_type": "code",
   "execution_count": 15,
   "id": "70a803c6",
   "metadata": {},
   "outputs": [
    {
     "data": {
      "text/plain": [
       "'versicolor'"
      ]
     },
     "execution_count": 15,
     "metadata": {},
     "output_type": "execute_result"
    }
   ],
   "source": [
    "# Check this function\n",
    "\n",
    "knn_predict(X_test[3], X_train, y_train, 7)"
   ]
  },
  {
   "cell_type": "code",
   "execution_count": 16,
   "id": "aeb0047b",
   "metadata": {},
   "outputs": [],
   "source": [
    "def accuracy(test_features, \n",
    "             test_labels,\n",
    "             training_features, \n",
    "             training_labels,\n",
    "             k):\n",
    "    \n",
    "    correct = 0\n",
    "    for point, label in zip(test_features, test_labels):\n",
    "        correct += label == knn_predict(point, \n",
    "                                        training_features, \n",
    "                                        training_labels, \n",
    "                                        k)\n",
    "    return correct/len(test_features)"
   ]
  },
  {
   "cell_type": "code",
   "execution_count": 19,
   "id": "4ad94a9c",
   "metadata": {},
   "outputs": [
    {
     "data": {
      "text/plain": [
       "0.8"
      ]
     },
     "execution_count": 19,
     "metadata": {},
     "output_type": "execute_result"
    }
   ],
   "source": [
    "# Check this function\n",
    "\n",
    "accuracy(X_valid, y_valid, X_train, y_train, 15)"
   ]
  },
  {
   "cell_type": "code",
   "execution_count": 20,
   "id": "be30137b",
   "metadata": {},
   "outputs": [
    {
     "data": {
      "image/png": "[encoded data removed]",
      "text/plain": [
       "<Figure size 576x432 with 1 Axes>"
      ]
     },
     "metadata": {
      "needs_background": "light"
     },
     "output_type": "display_data"
    }
   ],
   "source": [
    "k_values = [k for k in range(3, 50, 2)]\n",
    "accuracy_values = [accuracy(X_valid,\n",
    "                            y_valid,\n",
    "                            X_train,\n",
    "                            y_train, k) for k in k_values]\n",
    "\n",
    "plt.figure(figsize = (8, 6))\n",
    "\n",
    "plt.plot(k_values, accuracy_values, marker = \"o\")\n",
    "plt.title('Accuracy Score on the Validation Data')\n",
    "plt.xlabel('k')\n",
    "plt.ylabel('Accuracy')\n",
    "plt.xticks(k_values)\n",
    "plt.grid();"
   ]
  },
  {
   "cell_type": "code",
   "execution_count": 23,
   "id": "0f6f9ae4",
   "metadata": {},
   "outputs": [
    {
     "data": {
      "text/plain": [
       "0.9"
      ]
     },
     "execution_count": 23,
     "metadata": {},
     "output_type": "execute_result"
    }
   ],
   "source": [
    "# We choose the optimal value for k from the above graph, \n",
    "# we fit the model again on the training data and \n",
    "# we report the error on the test data\n",
    "\n",
    "accuracy(X_test, y_test, X_train, y_train, 25)"
   ]
  },
  {
   "cell_type": "markdown",
   "id": "44837699",
   "metadata": {},
   "source": [
    "## 2) Use sklearn to implement K-NN "
   ]
  },
  {
   "cell_type": "code",
   "execution_count": 24,
   "id": "7df17961",
   "metadata": {},
   "outputs": [],
   "source": [
    "from sklearn.neighbors import KNeighborsClassifier\n",
    "from sklearn.metrics import confusion_matrix, accuracy_score, classification_report\n",
    "\n",
    "X = df[[\"sepal_length\", \"sepal_width\"]]\n",
    "y = df[\"species\"]"
   ]
  },
  {
   "cell_type": "code",
   "execution_count": 25,
   "id": "842396b2",
   "metadata": {},
   "outputs": [],
   "source": [
    "X_train_full, X_test, y_train_full, y_test = train_test_split(X, y, test_size=0.2, random_state=42)\n",
    "\n",
    "X_train, X_valid, y_train, y_valid = train_test_split(X_train_full, y_train_full, test_size=0.25, random_state=42)"
   ]
  },
  {
   "cell_type": "code",
   "execution_count": 26,
   "id": "d804c792",
   "metadata": {},
   "outputs": [
    {
     "data": {
      "text/plain": [
       "KNeighborsClassifier(n_neighbors=7)"
      ]
     },
     "execution_count": 26,
     "metadata": {},
     "output_type": "execute_result"
    }
   ],
   "source": [
    "model = KNeighborsClassifier(n_neighbors=7)\n",
    "model.fit(X_train, y_train)"
   ]
  },
  {
   "cell_type": "code",
   "execution_count": 27,
   "id": "e64fcc52",
   "metadata": {},
   "outputs": [
    {
     "data": {
      "text/plain": [
       "array(['virginica', 'versicolor', 'setosa', 'setosa', 'setosa',\n",
       "       'virginica', 'virginica', 'versicolor', 'versicolor', 'virginica',\n",
       "       'versicolor', 'virginica', 'virginica', 'versicolor', 'versicolor',\n",
       "       'versicolor', 'versicolor', 'setosa', 'versicolor', 'setosa',\n",
       "       'versicolor', 'versicolor', 'setosa', 'setosa', 'versicolor',\n",
       "       'virginica', 'versicolor', 'setosa', 'versicolor', 'virginica'],\n",
       "      dtype=object)"
      ]
     },
     "execution_count": 27,
     "metadata": {},
     "output_type": "execute_result"
    }
   ],
   "source": [
    "y_pred = model.predict(X_valid)\n",
    "y_pred"
   ]
  },
  {
   "cell_type": "code",
   "execution_count": 28,
   "id": "003224cc",
   "metadata": {},
   "outputs": [
    {
     "data": {
      "text/plain": [
       "0.6333333333333333"
      ]
     },
     "execution_count": 28,
     "metadata": {},
     "output_type": "execute_result"
    }
   ],
   "source": [
    "accuracy_score(y_valid, y_pred)"
   ]
  },
  {
   "cell_type": "code",
   "execution_count": 29,
   "id": "19b677ab",
   "metadata": {},
   "outputs": [
    {
     "data": {
      "text/plain": [
       "array([[8, 1, 0],\n",
       "       [0, 8, 5],\n",
       "       [0, 5, 3]], dtype=int64)"
      ]
     },
     "execution_count": 29,
     "metadata": {},
     "output_type": "execute_result"
    }
   ],
   "source": [
    "cm = confusion_matrix(y_valid, y_pred)\n",
    "cm"
   ]
  },
  {
   "cell_type": "code",
   "execution_count": 30,
   "id": "ca2b913a",
   "metadata": {},
   "outputs": [
    {
     "data": {
      "image/png": "[encoded data removed]",
      "text/plain": [
       "<Figure size 432x288 with 2 Axes>"
      ]
     },
     "metadata": {
      "needs_background": "light"
     },
     "output_type": "display_data"
    }
   ],
   "source": [
    "sns.heatmap(cm,\n",
    "           annot=True,\n",
    "           annot_kws={\"size\":15},\n",
    "           xticklabels=['setosa', 'versicolor', 'virginica'],\n",
    "           yticklabels=['setosa', 'versicolor', 'virginica'])\n",
    "plt.xlabel('Predicted')\n",
    "plt.ylabel('Actual');"
   ]
  },
  {
   "cell_type": "code",
   "execution_count": 31,
   "id": "86001161",
   "metadata": {},
   "outputs": [
    {
     "name": "stdout",
     "output_type": "stream",
     "text": [
      "              precision    recall  f1-score   support\n",
      "\n",
      "      setosa       1.00      0.89      0.94         9\n",
      "  versicolor       0.57      0.62      0.59        13\n",
      "   virginica       0.38      0.38      0.38         8\n",
      "\n",
      "    accuracy                           0.63        30\n",
      "   macro avg       0.65      0.63      0.64        30\n",
      "weighted avg       0.65      0.63      0.64        30\n",
      "\n"
     ]
    }
   ],
   "source": [
    "print(classification_report(y_valid, y_pred))"
   ]
  },
  {
   "cell_type": "code",
   "execution_count": 32,
   "id": "b225b916",
   "metadata": {},
   "outputs": [
    {
     "data": {
      "image/png": "[encoded data removed]",
      "text/plain": [
       "<Figure size 576x432 with 1 Axes>"
      ]
     },
     "metadata": {
      "needs_background": "light"
     },
     "output_type": "display_data"
    }
   ],
   "source": [
    "k_values = []\n",
    "acc_score = []\n",
    "\n",
    "for k in range(1, 50, 2):\n",
    "    model = KNeighborsClassifier(n_neighbors = k)\n",
    "    model.fit(X_train, y_train)\n",
    "    y_pred = model.predict(X_valid)\n",
    "    acc_score.append(accuracy_score(y_valid, y_pred))\n",
    "    k_values.append(k)\n",
    "\n",
    "\n",
    "plt.figure(figsize = (8, 6))\n",
    "\n",
    "plt.plot(k_values, acc_score, marker = \"o\")\n",
    "plt.title(\"Accuracy Score on the Validation Data\")\n",
    "plt.xlabel(\"k\")\n",
    "plt.ylabel(\"accuracy score\")\n",
    "plt.xticks(k_values)\n",
    "plt.grid();"
   ]
  },
  {
   "cell_type": "code",
   "execution_count": 33,
   "id": "f2e74189",
   "metadata": {},
   "outputs": [
    {
     "data": {
      "text/plain": [
       "0.8333333333333334"
      ]
     },
     "execution_count": 33,
     "metadata": {},
     "output_type": "execute_result"
    }
   ],
   "source": [
    "m = max(acc_score)\n",
    "m"
   ]
  },
  {
   "cell_type": "code",
   "execution_count": 34,
   "id": "df465221",
   "metadata": {},
   "outputs": [
    {
     "data": {
      "text/plain": [
       "25"
      ]
     },
     "execution_count": 34,
     "metadata": {},
     "output_type": "execute_result"
    }
   ],
   "source": [
    "k_values[acc_score.index(m)]"
   ]
  },
  {
   "cell_type": "code",
   "execution_count": 35,
   "id": "41e488dd",
   "metadata": {},
   "outputs": [
    {
     "data": {
      "text/plain": [
       "0.9333333333333333"
      ]
     },
     "execution_count": 35,
     "metadata": {},
     "output_type": "execute_result"
    }
   ],
   "source": [
    "model = KNeighborsClassifier(n_neighbors = 25)\n",
    "model.fit(X_train, y_train)\n",
    "y_pred = model.predict(X_test)\n",
    "accuracy_score(y_test, y_pred)"
   ]
  },
  {
   "cell_type": "markdown",
   "id": "e0b4d586",
   "metadata": {},
   "source": [
    "## 3) Use GridSearchCV and RandomizedSearchCV to select hyper-parameters"
   ]
  },
  {
   "cell_type": "code",
   "execution_count": 36,
   "id": "7eec8b2e",
   "metadata": {},
   "outputs": [],
   "source": [
    "from sklearn.model_selection import cross_val_score, GridSearchCV, RandomizedSearchCV"
   ]
  },
  {
   "cell_type": "code",
   "execution_count": 37,
   "id": "7aa27d04",
   "metadata": {},
   "outputs": [],
   "source": [
    "X = df[[\"sepal_length\", \"sepal_width\"]]\n",
    "y = df[\"species\"]\n",
    "\n",
    "X_train, X_test, y_train, y_test = train_test_split(X, y, test_size=0.2, random_state=42)"
   ]
  },
  {
   "cell_type": "code",
   "execution_count": 38,
   "id": "7f817931",
   "metadata": {},
   "outputs": [
    {
     "data": {
      "text/plain": [
       "array([0.66666667, 0.75      , 0.79166667, 0.70833333, 0.70833333])"
      ]
     },
     "execution_count": 38,
     "metadata": {},
     "output_type": "execute_result"
    }
   ],
   "source": [
    "cv_scores = cross_val_score(KNeighborsClassifier(n_neighbors=10), \n",
    "                            X_train, \n",
    "                            y_train, \n",
    "                            cv=5, # no shuffle, stratified for classifiers, default value 5\n",
    "                            #cv=KFold(n_splits=5, shuffle=True), \n",
    "                            #cv=StratifiedKFold(n_splits=5, shuffle=True),\n",
    "                            #cv=RepeatedKFold(n_splits=5, n_repeats=3),\n",
    "                            scoring='accuracy')\n",
    "\n",
    "cv_scores"
   ]
  },
  {
   "cell_type": "code",
   "execution_count": 39,
   "id": "ec55ae54",
   "metadata": {},
   "outputs": [
    {
     "name": "stdout",
     "output_type": "stream",
     "text": [
      "[0.67 0.75 0.79 0.71 0.71]\n",
      "Average accuracy: 0.725\n",
      "Accuracy standard deviation: 0.042491829279939865\n"
     ]
    },
    {
     "data": {
      "image/png": "[encoded data removed]",
      "text/plain": [
       "<Figure size 432x288 with 1 Axes>"
      ]
     },
     "metadata": {
      "needs_background": "light"
     },
     "output_type": "display_data"
    }
   ],
   "source": [
    "plt.plot(range(1, 6), cv_scores, marker='o')\n",
    "plt.ylim(0, 1)\n",
    "plt.ylabel('Accuracy score', fontsize=15)\n",
    "plt.xlabel('Fold', fontsize=15)\n",
    "plt.xticks(range(1,6))\n",
    "\n",
    "print(np.round(cv_scores,2))\n",
    "print('Average accuracy:', cv_scores.mean())\n",
    "print('Accuracy standard deviation:', cv_scores.std());  "
   ]
  },
  {
   "cell_type": "code",
   "execution_count": 40,
   "id": "8d88cacd",
   "metadata": {},
   "outputs": [
    {
     "data": {
      "text/plain": [
       "{'mean_fit_time': array([0.00363255, 0.00281224, 0.00235987, 0.00295815, 0.00257444,\n",
       "        0.00274029, 0.0031477 , 0.00245495, 0.00299578, 0.00240836,\n",
       "        0.00242238, 0.00332317, 0.00297809, 0.00301156, 0.00238757,\n",
       "        0.00221367, 0.00239   , 0.00273619, 0.00233197, 0.00238509,\n",
       "        0.00301185, 0.00259943, 0.00276651, 0.00271411, 0.00257263,\n",
       "        0.00251579, 0.00277457, 0.00279999, 0.00260768, 0.0023663 ,\n",
       "        0.00282435, 0.00266643, 0.00293217, 0.00260868, 0.00261335,\n",
       "        0.00260921, 0.00302811, 0.00240717, 0.00240335, 0.0034627 ,\n",
       "        0.00212502, 0.00220771, 0.00238299, 0.0026598 , 0.00219865,\n",
       "        0.00278606, 0.00301247, 0.00258799, 0.00305066, 0.00281281,\n",
       "        0.00311298, 0.00321932, 0.00278673, 0.0026226 , 0.00304289,\n",
       "        0.00315695, 0.00241289, 0.00306478, 0.00214038, 0.00272875,\n",
       "        0.00277743, 0.00225544, 0.0025991 , 0.00261459, 0.00262341,\n",
       "        0.00279431, 0.00218616, 0.00282602, 0.00259953, 0.0025589 ,\n",
       "        0.00248971, 0.00326529, 0.00192671, 0.00261011, 0.00291872,\n",
       "        0.00258226, 0.00261555, 0.00224161, 0.00221763, 0.00240216,\n",
       "        0.00234642, 0.0022409 , 0.00261564, 0.00258551, 0.00287032,\n",
       "        0.00298243, 0.00299602, 0.00278115, 0.00253868, 0.00239549,\n",
       "        0.00279255, 0.00218301, 0.00200834, 0.00300026, 0.00284534,\n",
       "        0.00241804, 0.00254383, 0.00300155, 0.00239596, 0.00325217,\n",
       "        0.00280108, 0.00282373, 0.00327902, 0.00296531, 0.00248537,\n",
       "        0.00270166, 0.00196385, 0.00298944, 0.00311499, 0.00220795,\n",
       "        0.00261025, 0.00268297, 0.00282907, 0.00195618, 0.0033555 ,\n",
       "        0.00356064, 0.00262527, 0.00302777, 0.00285249, 0.00220442,\n",
       "        0.00278563, 0.00242157, 0.00241385, 0.00267134, 0.00280333,\n",
       "        0.00301328, 0.00241995, 0.00258579, 0.00241389, 0.00280452,\n",
       "        0.00301461, 0.00219975, 0.00178666, 0.00246773, 0.0027339 ,\n",
       "        0.00283961, 0.00240245, 0.00259714, 0.0024004 , 0.00239983,\n",
       "        0.00246563, 0.00229683, 0.00187287, 0.00220022, 0.00249076,\n",
       "        0.00217814, 0.00201683, 0.00231009, 0.00294743, 0.00280023,\n",
       "        0.00224786, 0.0024117 , 0.00238757, 0.00281606, 0.00239749,\n",
       "        0.00247779, 0.00276699, 0.00313091, 0.0020833 , 0.00265207,\n",
       "        0.00238419, 0.00265045, 0.0026957 , 0.00266094, 0.0020576 ,\n",
       "        0.00254674, 0.0030127 , 0.00234437, 0.00284867, 0.00254226,\n",
       "        0.00277681, 0.00257492, 0.00385056, 0.0031105 , 0.00261569,\n",
       "        0.0029675 , 0.00248117, 0.00307689, 0.00352249, 0.00370498,\n",
       "        0.00343447, 0.0031095 , 0.00281305, 0.00319638, 0.00260854,\n",
       "        0.00294113, 0.00367961, 0.00292006, 0.00264587, 0.00325384,\n",
       "        0.0024981 , 0.00256767, 0.00243568, 0.00348349, 0.003158  ,\n",
       "        0.00354509, 0.00225191, 0.00272918, 0.00289731, 0.00271506]),\n",
       " 'std_fit_time': array([7.29424006e-04, 4.07536224e-04, 4.90849950e-04, 5.59235335e-04,\n",
       "        5.00608144e-04, 5.49472259e-04, 6.64015657e-04, 5.86817947e-04,\n",
       "        6.00226421e-04, 4.82762844e-04, 4.80276233e-04, 7.75707495e-04,\n",
       "        4.57920107e-05, 4.98958538e-05, 5.09731683e-04, 3.93707882e-04,\n",
       "        4.65252696e-04, 4.96534991e-04, 5.98808697e-04, 5.02355752e-04,\n",
       "        5.95123484e-04, 4.45114408e-04, 4.60656202e-04, 3.87743952e-04,\n",
       "        4.85729220e-04, 4.85787669e-04, 7.03602846e-04, 4.09644667e-04,\n",
       "        4.92387152e-04, 4.88136152e-04, 4.09680699e-04, 9.71391803e-04,\n",
       "        4.41199069e-04, 4.85166299e-04, 4.76779109e-04, 5.69253592e-04,\n",
       "        1.76468948e-04, 7.74862797e-04, 4.89429027e-04, 7.37089947e-04,\n",
       "        2.14962454e-04, 3.97888320e-04, 5.05213166e-04, 4.98837992e-04,\n",
       "        4.01049770e-04, 3.98654703e-04, 3.92866942e-05, 4.52405003e-04,\n",
       "        6.86350070e-05, 4.45986215e-04, 6.59656332e-04, 1.14644578e-03,\n",
       "        7.56898216e-04, 5.12491925e-04, 8.59487416e-04, 7.45527362e-04,\n",
       "        4.76232875e-04, 6.51360406e-04, 3.94025972e-04, 4.02316765e-04,\n",
       "        4.34518932e-04, 4.02897094e-04, 4.82396963e-04, 7.97130926e-04,\n",
       "        4.78926577e-04, 3.68682227e-04, 4.03841089e-04, 7.36732134e-04,\n",
       "        4.84806307e-04, 4.86977180e-04, 4.58227226e-04, 4.68168464e-04,\n",
       "        1.45818050e-04, 3.55789661e-04, 1.82860367e-04, 5.07888061e-04,\n",
       "        5.03419090e-04, 3.80753889e-04, 3.91705011e-04, 4.89536563e-04,\n",
       "        5.68198577e-04, 3.96027169e-04, 5.04637947e-04, 4.77996718e-04,\n",
       "        7.66284064e-04, 3.01568497e-05, 6.08965511e-04, 4.38571038e-04,\n",
       "        6.93313587e-04, 4.93066882e-04, 3.96253727e-04, 4.05451986e-04,\n",
       "        2.24699107e-05, 1.88938263e-06, 3.28078706e-04, 4.79743185e-04,\n",
       "        4.53756812e-04, 6.38569929e-04, 4.92256151e-04, 2.20448146e-04,\n",
       "        4.00744671e-04, 4.15073931e-04, 5.57233552e-04, 5.11233251e-04,\n",
       "        4.28999518e-04, 5.78584482e-04, 3.22110471e-05, 1.98438750e-05,\n",
       "        1.53560919e-04, 4.90949148e-04, 4.85426958e-04, 8.41243209e-04,\n",
       "        4.14842710e-04, 5.73731214e-05, 1.28752828e-03, 4.41345328e-04,\n",
       "        4.77657076e-04, 3.68495486e-05, 3.92018451e-04, 4.34746404e-04,\n",
       "        3.94308851e-04, 8.27112275e-04, 4.70097152e-04, 5.36411721e-04,\n",
       "        7.51348544e-04, 5.42544723e-05, 5.31215599e-04, 5.02074377e-04,\n",
       "        8.18692500e-04, 4.39825377e-04, 1.09709561e-03, 3.81110189e-04,\n",
       "        7.44689147e-04, 4.43697542e-04, 8.47795245e-04, 4.26433671e-04,\n",
       "        4.92601140e-04, 4.81786892e-04, 4.90174335e-04, 4.92798425e-04,\n",
       "        4.51057974e-04, 3.95915788e-04, 4.49009035e-04, 4.00972551e-04,\n",
       "        5.41201373e-04, 3.80436583e-04, 4.66967970e-05, 4.23934794e-04,\n",
       "        2.09203933e-04, 4.41840692e-04, 4.20507450e-04, 4.45362449e-04,\n",
       "        7.31553716e-04, 3.74523901e-04, 4.69731832e-04, 4.28344138e-04,\n",
       "        6.23297151e-04, 2.69000785e-04, 6.69079271e-04, 4.33416665e-04,\n",
       "        5.02974177e-04, 5.14152137e-04, 4.61996092e-04, 5.22825914e-04,\n",
       "        7.02413253e-04, 5.88972484e-04, 4.37453330e-05, 4.94772586e-04,\n",
       "        4.28762984e-04, 9.61254879e-04, 4.25104228e-04, 4.13150492e-04,\n",
       "        7.90030757e-04, 6.20951797e-04, 5.05068137e-04, 5.55085560e-05,\n",
       "        7.54729072e-04, 6.47345538e-04, 1.19241096e-03, 5.13563900e-04,\n",
       "        7.24365639e-04, 9.39818028e-04, 4.07574630e-04, 7.23626752e-04,\n",
       "        1.02248783e-03, 7.30633850e-04, 5.88872898e-04, 6.60484128e-04,\n",
       "        5.72161804e-04, 7.07965359e-04, 7.65268279e-04, 4.72612901e-04,\n",
       "        1.06270229e-03, 6.83041915e-04, 9.52874905e-04, 4.55178556e-04,\n",
       "        6.84456073e-04, 3.73937420e-04, 7.30117283e-04, 8.25349714e-04]),\n",
       " 'mean_score_time': array([0.02548389, 0.00278831, 0.00384464, 0.00243597, 0.00326486,\n",
       "        0.00255923, 0.00344481, 0.00284576, 0.00382504, 0.0027729 ,\n",
       "        0.00420675, 0.00279951, 0.00402379, 0.00258851, 0.00353942,\n",
       "        0.00268931, 0.00362759, 0.00304861, 0.00338173, 0.00301428,\n",
       "        0.00502129, 0.0030169 , 0.00367179, 0.00306325, 0.00383515,\n",
       "        0.00309753, 0.00345564, 0.00299745, 0.00376287, 0.00284705,\n",
       "        0.00383368, 0.00276613, 0.0034586 , 0.00305409, 0.0042315 ,\n",
       "        0.00301509, 0.00366154, 0.00240803, 0.00363569, 0.00350742,\n",
       "        0.0040483 , 0.00280089, 0.00381379, 0.0028861 , 0.00364637,\n",
       "        0.00270534, 0.0036716 , 0.00260134, 0.00341353, 0.00278125,\n",
       "        0.0033854 , 0.00290227, 0.00333438, 0.00299029, 0.00379453,\n",
       "        0.0028471 , 0.00360236, 0.00291147, 0.00326571, 0.00280051,\n",
       "        0.00351067, 0.00258975, 0.00340419, 0.00222349, 0.00417805,\n",
       "        0.00281067, 0.00368595, 0.00348382, 0.00391355, 0.00262537,\n",
       "        0.00360651, 0.00340052, 0.00357981, 0.00263057, 0.00379663,\n",
       "        0.00284038, 0.00379381, 0.00280275, 0.00366087, 0.00322332,\n",
       "        0.00359898, 0.00301099, 0.00385456, 0.00260005, 0.00411987,\n",
       "        0.00326066, 0.00416179, 0.00250649, 0.0039999 , 0.00279732,\n",
       "        0.00378799, 0.00320044, 0.00427322, 0.00305786, 0.0037374 ,\n",
       "        0.00280476, 0.00362363, 0.00259814, 0.00389528, 0.00292478,\n",
       "        0.00388222, 0.00305753, 0.00462756, 0.00277219, 0.003935  ,\n",
       "        0.00318036, 0.00321517, 0.00300813, 0.00405617, 0.00302925,\n",
       "        0.00361457, 0.00282955, 0.00330238, 0.00303555, 0.00372677,\n",
       "        0.00370164, 0.00378795, 0.00296946, 0.00362468, 0.00278702,\n",
       "        0.00387406, 0.00322108, 0.00340233, 0.00297518, 0.00301323,\n",
       "        0.00298572, 0.00353622, 0.00279827, 0.00393081, 0.00269051,\n",
       "        0.00343466, 0.00250678, 0.00341029, 0.00280147, 0.00330968,\n",
       "        0.00239987, 0.00339785, 0.00299854, 0.00384922, 0.00260153,\n",
       "        0.00339985, 0.00301123, 0.00305972, 0.00280132, 0.00362315,\n",
       "        0.00313897, 0.00369391, 0.00329852, 0.00393872, 0.00282393,\n",
       "        0.00403838, 0.00301609, 0.00397806, 0.00312529, 0.00400977,\n",
       "        0.00288134, 0.00336294, 0.00290837, 0.00387549, 0.00345197,\n",
       "        0.00360045, 0.00300498, 0.00359259, 0.00285544, 0.00315828,\n",
       "        0.00297365, 0.00416045, 0.00284801, 0.00377998, 0.00292311,\n",
       "        0.00376596, 0.00343013, 0.00422096, 0.00405536, 0.00457263,\n",
       "        0.00340896, 0.00427756, 0.00342956, 0.0045682 , 0.00327563,\n",
       "        0.0047513 , 0.00362067, 0.00494218, 0.00399537, 0.00398259,\n",
       "        0.00375099, 0.00469074, 0.0035882 , 0.00400686, 0.00309396,\n",
       "        0.00480485, 0.00341554, 0.00448914, 0.00312572, 0.00519342,\n",
       "        0.00336208, 0.00308876, 0.00276537, 0.0039937 , 0.00357547]),\n",
       " 'std_score_time': array([4.14259058e-02, 4.38506824e-04, 4.23705452e-04, 4.76833305e-04,\n",
       "        3.33578945e-04, 4.87527913e-04, 8.18618454e-04, 4.47808664e-04,\n",
       "        4.14517523e-04, 3.86307339e-04, 3.58003946e-04, 3.81857705e-04,\n",
       "        1.11841355e-03, 4.52176031e-04, 4.65979329e-04, 5.86514733e-04,\n",
       "        5.13710469e-04, 6.35667751e-05, 5.42000370e-04, 8.94614008e-04,\n",
       "        8.37546455e-04, 5.19665877e-05, 4.22403515e-04, 8.03564960e-04,\n",
       "        3.37644193e-04, 1.33889302e-04, 4.73876416e-04, 4.48598099e-05,\n",
       "        5.38485398e-04, 3.92441807e-04, 4.18228448e-04, 1.13914164e-03,\n",
       "        1.01532851e-03, 8.05511063e-05, 4.26578143e-04, 7.06174137e-04,\n",
       "        4.96171910e-04, 4.83692059e-04, 5.27326135e-04, 8.05793165e-04,\n",
       "        4.59491019e-04, 3.64911872e-04, 4.08502845e-04, 1.93917508e-04,\n",
       "        5.31670374e-04, 3.91439135e-04, 5.56950647e-04, 4.94404794e-04,\n",
       "        5.11465605e-04, 4.04667359e-04, 4.76492533e-04, 1.03649756e-03,\n",
       "        1.08161818e-03, 6.61003072e-04, 1.18219602e-03, 3.72820389e-04,\n",
       "        4.91181173e-04, 5.12479781e-04, 7.66425166e-04, 4.20081667e-04,\n",
       "        4.64740950e-04, 4.76287129e-04, 7.50479996e-04, 7.25332125e-04,\n",
       "        9.69143482e-04, 3.60236900e-04, 6.28908534e-04, 6.81980855e-04,\n",
       "        1.07966915e-03, 5.16424518e-04, 4.70538438e-04, 7.99204062e-04,\n",
       "        4.73380035e-04, 4.85763695e-04, 4.29414230e-04, 3.29124482e-04,\n",
       "        3.43879229e-04, 3.67064326e-04, 4.27911163e-04, 3.95215185e-04,\n",
       "        4.69647140e-04, 2.99585065e-05, 4.44279557e-04, 4.90148488e-04,\n",
       "        5.86299064e-04, 4.45543469e-04, 2.18310893e-04, 6.21244817e-04,\n",
       "        3.10640287e-06, 4.36234270e-04, 7.27333771e-04, 7.08785749e-04,\n",
       "        6.20783570e-04, 1.05350002e-04, 7.59705954e-04, 7.36475493e-04,\n",
       "        5.06043366e-04, 5.06945576e-04, 2.21824984e-04, 5.89135939e-04,\n",
       "        4.52285572e-04, 6.02641496e-04, 1.03083561e-03, 3.87004005e-04,\n",
       "        5.17264030e-04, 3.49566377e-04, 7.15985095e-04, 3.83914623e-05,\n",
       "        5.34732754e-04, 6.08184439e-05, 4.68302246e-04, 7.69327570e-04,\n",
       "        4.01189357e-04, 6.24516522e-05, 7.49161519e-04, 8.43514331e-04,\n",
       "        7.62123781e-04, 2.92322569e-05, 5.09190845e-04, 3.91269735e-04,\n",
       "        6.93089346e-04, 4.28353927e-04, 4.88063891e-04, 4.83829726e-05,\n",
       "        6.10118028e-04, 6.33979381e-04, 6.02344824e-04, 3.69879956e-04,\n",
       "        4.12008138e-04, 6.06233582e-04, 4.81549746e-04, 4.38450805e-04,\n",
       "        8.25336146e-04, 4.04284505e-04, 3.56472323e-04, 4.90213655e-04,\n",
       "        4.91340435e-04, 6.48112743e-06, 4.34067497e-04, 4.87870471e-04,\n",
       "        7.99954031e-04, 6.36219092e-04, 7.58811992e-05, 4.00262933e-04,\n",
       "        7.91441476e-04, 7.30924973e-04, 4.17254954e-04, 8.76785095e-04,\n",
       "        5.80911678e-04, 7.28707978e-04, 1.01512617e-04, 2.61264122e-05,\n",
       "        1.55932560e-04, 4.09874937e-04, 2.42761230e-04, 7.71956775e-04,\n",
       "        7.41785306e-04, 7.84636994e-04, 4.22935260e-04, 5.68989235e-04,\n",
       "        4.91228203e-04, 5.60752924e-04, 5.15129426e-04, 3.86055962e-04,\n",
       "        7.62518340e-04, 6.19678509e-04, 4.22326044e-04, 4.32067135e-04,\n",
       "        3.90218476e-04, 7.62143205e-04, 4.06827772e-04, 5.01679352e-04,\n",
       "        2.21772292e-04, 7.44612112e-04, 8.02242659e-04, 4.83231806e-04,\n",
       "        8.20798149e-04, 1.03511859e-03, 6.42308778e-04, 3.87654328e-04,\n",
       "        6.27311362e-04, 8.18033211e-04, 1.17531878e-03, 5.66548976e-04,\n",
       "        9.25815260e-04, 7.05885520e-04, 1.26523916e-03, 3.90573442e-04,\n",
       "        6.39656902e-04, 7.28373481e-04, 7.27454695e-04, 8.04522126e-04,\n",
       "        4.71400438e-04, 2.21780412e-04, 1.07694475e-03, 4.35964200e-04,\n",
       "        6.93766085e-04, 3.96737898e-04, 7.07188095e-04, 1.86889007e-03]),\n",
       " 'param_n_neighbors': masked_array(data=[1, 1, 1, 1, 2, 2, 2, 2, 3, 3, 3, 3, 4, 4, 4, 4, 5, 5,\n",
       "                    5, 5, 6, 6, 6, 6, 7, 7, 7, 7, 8, 8, 8, 8, 9, 9, 9, 9,\n",
       "                    10, 10, 10, 10, 11, 11, 11, 11, 12, 12, 12, 12, 13, 13,\n",
       "                    13, 13, 14, 14, 14, 14, 15, 15, 15, 15, 16, 16, 16, 16,\n",
       "                    17, 17, 17, 17, 18, 18, 18, 18, 19, 19, 19, 19, 20, 20,\n",
       "                    20, 20, 21, 21, 21, 21, 22, 22, 22, 22, 23, 23, 23, 23,\n",
       "                    24, 24, 24, 24, 25, 25, 25, 25, 26, 26, 26, 26, 27, 27,\n",
       "                    27, 27, 28, 28, 28, 28, 29, 29, 29, 29, 30, 30, 30, 30,\n",
       "                    31, 31, 31, 31, 32, 32, 32, 32, 33, 33, 33, 33, 34, 34,\n",
       "                    34, 34, 35, 35, 35, 35, 36, 36, 36, 36, 37, 37, 37, 37,\n",
       "                    38, 38, 38, 38, 39, 39, 39, 39, 40, 40, 40, 40, 41, 41,\n",
       "                    41, 41, 42, 42, 42, 42, 43, 43, 43, 43, 44, 44, 44, 44,\n",
       "                    45, 45, 45, 45, 46, 46, 46, 46, 47, 47, 47, 47, 48, 48,\n",
       "                    48, 48, 49, 49, 49, 49, 50, 50, 50, 50],\n",
       "              mask=[False, False, False, False, False, False, False, False,\n",
       "                    False, False, False, False, False, False, False, False,\n",
       "                    False, False, False, False, False, False, False, False,\n",
       "                    False, False, False, False, False, False, False, False,\n",
       "                    False, False, False, False, False, False, False, False,\n",
       "                    False, False, False, False, False, False, False, False,\n",
       "                    False, False, False, False, False, False, False, False,\n",
       "                    False, False, False, False, False, False, False, False,\n",
       "                    False, False, False, False, False, False, False, False,\n",
       "                    False, False, False, False, False, False, False, False,\n",
       "                    False, False, False, False, False, False, False, False,\n",
       "                    False, False, False, False, False, False, False, False,\n",
       "                    False, False, False, False, False, False, False, False,\n",
       "                    False, False, False, False, False, False, False, False,\n",
       "                    False, False, False, False, False, False, False, False,\n",
       "                    False, False, False, False, False, False, False, False,\n",
       "                    False, False, False, False, False, False, False, False,\n",
       "                    False, False, False, False, False, False, False, False,\n",
       "                    False, False, False, False, False, False, False, False,\n",
       "                    False, False, False, False, False, False, False, False,\n",
       "                    False, False, False, False, False, False, False, False,\n",
       "                    False, False, False, False, False, False, False, False,\n",
       "                    False, False, False, False, False, False, False, False,\n",
       "                    False, False, False, False, False, False, False, False,\n",
       "                    False, False, False, False, False, False, False, False],\n",
       "        fill_value='?',\n",
       "             dtype=object),\n",
       " 'param_p': masked_array(data=[1, 1, 2, 2, 1, 1, 2, 2, 1, 1, 2, 2, 1, 1, 2, 2, 1, 1,\n",
       "                    2, 2, 1, 1, 2, 2, 1, 1, 2, 2, 1, 1, 2, 2, 1, 1, 2, 2,\n",
       "                    1, 1, 2, 2, 1, 1, 2, 2, 1, 1, 2, 2, 1, 1, 2, 2, 1, 1,\n",
       "                    2, 2, 1, 1, 2, 2, 1, 1, 2, 2, 1, 1, 2, 2, 1, 1, 2, 2,\n",
       "                    1, 1, 2, 2, 1, 1, 2, 2, 1, 1, 2, 2, 1, 1, 2, 2, 1, 1,\n",
       "                    2, 2, 1, 1, 2, 2, 1, 1, 2, 2, 1, 1, 2, 2, 1, 1, 2, 2,\n",
       "                    1, 1, 2, 2, 1, 1, 2, 2, 1, 1, 2, 2, 1, 1, 2, 2, 1, 1,\n",
       "                    2, 2, 1, 1, 2, 2, 1, 1, 2, 2, 1, 1, 2, 2, 1, 1, 2, 2,\n",
       "                    1, 1, 2, 2, 1, 1, 2, 2, 1, 1, 2, 2, 1, 1, 2, 2, 1, 1,\n",
       "                    2, 2, 1, 1, 2, 2, 1, 1, 2, 2, 1, 1, 2, 2, 1, 1, 2, 2,\n",
       "                    1, 1, 2, 2, 1, 1, 2, 2, 1, 1, 2, 2, 1, 1, 2, 2, 1, 1,\n",
       "                    2, 2],\n",
       "              mask=[False, False, False, False, False, False, False, False,\n",
       "                    False, False, False, False, False, False, False, False,\n",
       "                    False, False, False, False, False, False, False, False,\n",
       "                    False, False, False, False, False, False, False, False,\n",
       "                    False, False, False, False, False, False, False, False,\n",
       "                    False, False, False, False, False, False, False, False,\n",
       "                    False, False, False, False, False, False, False, False,\n",
       "                    False, False, False, False, False, False, False, False,\n",
       "                    False, False, False, False, False, False, False, False,\n",
       "                    False, False, False, False, False, False, False, False,\n",
       "                    False, False, False, False, False, False, False, False,\n",
       "                    False, False, False, False, False, False, False, False,\n",
       "                    False, False, False, False, False, False, False, False,\n",
       "                    False, False, False, False, False, False, False, False,\n",
       "                    False, False, False, False, False, False, False, False,\n",
       "                    False, False, False, False, False, False, False, False,\n",
       "                    False, False, False, False, False, False, False, False,\n",
       "                    False, False, False, False, False, False, False, False,\n",
       "                    False, False, False, False, False, False, False, False,\n",
       "                    False, False, False, False, False, False, False, False,\n",
       "                    False, False, False, False, False, False, False, False,\n",
       "                    False, False, False, False, False, False, False, False,\n",
       "                    False, False, False, False, False, False, False, False,\n",
       "                    False, False, False, False, False, False, False, False,\n",
       "                    False, False, False, False, False, False, False, False],\n",
       "        fill_value='?',\n",
       "             dtype=object),\n",
       " 'param_weights': masked_array(data=['uniform', 'distance', 'uniform', 'distance',\n",
       "                    'uniform', 'distance', 'uniform', 'distance',\n",
       "                    'uniform', 'distance', 'uniform', 'distance',\n",
       "                    'uniform', 'distance', 'uniform', 'distance',\n",
       "                    'uniform', 'distance', 'uniform', 'distance',\n",
       "                    'uniform', 'distance', 'uniform', 'distance',\n",
       "                    'uniform', 'distance', 'uniform', 'distance',\n",
       "                    'uniform', 'distance', 'uniform', 'distance',\n",
       "                    'uniform', 'distance', 'uniform', 'distance',\n",
       "                    'uniform', 'distance', 'uniform', 'distance',\n",
       "                    'uniform', 'distance', 'uniform', 'distance',\n",
       "                    'uniform', 'distance', 'uniform', 'distance',\n",
       "                    'uniform', 'distance', 'uniform', 'distance',\n",
       "                    'uniform', 'distance', 'uniform', 'distance',\n",
       "                    'uniform', 'distance', 'uniform', 'distance',\n",
       "                    'uniform', 'distance', 'uniform', 'distance',\n",
       "                    'uniform', 'distance', 'uniform', 'distance',\n",
       "                    'uniform', 'distance', 'uniform', 'distance',\n",
       "                    'uniform', 'distance', 'uniform', 'distance',\n",
       "                    'uniform', 'distance', 'uniform', 'distance',\n",
       "                    'uniform', 'distance', 'uniform', 'distance',\n",
       "                    'uniform', 'distance', 'uniform', 'distance',\n",
       "                    'uniform', 'distance', 'uniform', 'distance',\n",
       "                    'uniform', 'distance', 'uniform', 'distance',\n",
       "                    'uniform', 'distance', 'uniform', 'distance',\n",
       "                    'uniform', 'distance', 'uniform', 'distance',\n",
       "                    'uniform', 'distance', 'uniform', 'distance',\n",
       "                    'uniform', 'distance', 'uniform', 'distance',\n",
       "                    'uniform', 'distance', 'uniform', 'distance',\n",
       "                    'uniform', 'distance', 'uniform', 'distance',\n",
       "                    'uniform', 'distance', 'uniform', 'distance',\n",
       "                    'uniform', 'distance', 'uniform', 'distance',\n",
       "                    'uniform', 'distance', 'uniform', 'distance',\n",
       "                    'uniform', 'distance', 'uniform', 'distance',\n",
       "                    'uniform', 'distance', 'uniform', 'distance',\n",
       "                    'uniform', 'distance', 'uniform', 'distance',\n",
       "                    'uniform', 'distance', 'uniform', 'distance',\n",
       "                    'uniform', 'distance', 'uniform', 'distance',\n",
       "                    'uniform', 'distance', 'uniform', 'distance',\n",
       "                    'uniform', 'distance', 'uniform', 'distance',\n",
       "                    'uniform', 'distance', 'uniform', 'distance',\n",
       "                    'uniform', 'distance', 'uniform', 'distance',\n",
       "                    'uniform', 'distance', 'uniform', 'distance',\n",
       "                    'uniform', 'distance', 'uniform', 'distance',\n",
       "                    'uniform', 'distance', 'uniform', 'distance',\n",
       "                    'uniform', 'distance', 'uniform', 'distance',\n",
       "                    'uniform', 'distance', 'uniform', 'distance',\n",
       "                    'uniform', 'distance', 'uniform', 'distance',\n",
       "                    'uniform', 'distance', 'uniform', 'distance',\n",
       "                    'uniform', 'distance', 'uniform', 'distance'],\n",
       "              mask=[False, False, False, False, False, False, False, False,\n",
       "                    False, False, False, False, False, False, False, False,\n",
       "                    False, False, False, False, False, False, False, False,\n",
       "                    False, False, False, False, False, False, False, False,\n",
       "                    False, False, False, False, False, False, False, False,\n",
       "                    False, False, False, False, False, False, False, False,\n",
       "                    False, False, False, False, False, False, False, False,\n",
       "                    False, False, False, False, False, False, False, False,\n",
       "                    False, False, False, False, False, False, False, False,\n",
       "                    False, False, False, False, False, False, False, False,\n",
       "                    False, False, False, False, False, False, False, False,\n",
       "                    False, False, False, False, False, False, False, False,\n",
       "                    False, False, False, False, False, False, False, False,\n",
       "                    False, False, False, False, False, False, False, False,\n",
       "                    False, False, False, False, False, False, False, False,\n",
       "                    False, False, False, False, False, False, False, False,\n",
       "                    False, False, False, False, False, False, False, False,\n",
       "                    False, False, False, False, False, False, False, False,\n",
       "                    False, False, False, False, False, False, False, False,\n",
       "                    False, False, False, False, False, False, False, False,\n",
       "                    False, False, False, False, False, False, False, False,\n",
       "                    False, False, False, False, False, False, False, False,\n",
       "                    False, False, False, False, False, False, False, False,\n",
       "                    False, False, False, False, False, False, False, False,\n",
       "                    False, False, False, False, False, False, False, False],\n",
       "        fill_value='?',\n",
       "             dtype=object),\n",
       " 'params': [{'n_neighbors': 1, 'p': 1, 'weights': 'uniform'},\n",
       "  {'n_neighbors': 1, 'p': 1, 'weights': 'distance'},\n",
       "  {'n_neighbors': 1, 'p': 2, 'weights': 'uniform'},\n",
       "  {'n_neighbors': 1, 'p': 2, 'weights': 'distance'},\n",
       "  {'n_neighbors': 2, 'p': 1, 'weights': 'uniform'},\n",
       "  {'n_neighbors': 2, 'p': 1, 'weights': 'distance'},\n",
       "  {'n_neighbors': 2, 'p': 2, 'weights': 'uniform'},\n",
       "  {'n_neighbors': 2, 'p': 2, 'weights': 'distance'},\n",
       "  {'n_neighbors': 3, 'p': 1, 'weights': 'uniform'},\n",
       "  {'n_neighbors': 3, 'p': 1, 'weights': 'distance'},\n",
       "  {'n_neighbors': 3, 'p': 2, 'weights': 'uniform'},\n",
       "  {'n_neighbors': 3, 'p': 2, 'weights': 'distance'},\n",
       "  {'n_neighbors': 4, 'p': 1, 'weights': 'uniform'},\n",
       "  {'n_neighbors': 4, 'p': 1, 'weights': 'distance'},\n",
       "  {'n_neighbors': 4, 'p': 2, 'weights': 'uniform'},\n",
       "  {'n_neighbors': 4, 'p': 2, 'weights': 'distance'},\n",
       "  {'n_neighbors': 5, 'p': 1, 'weights': 'uniform'},\n",
       "  {'n_neighbors': 5, 'p': 1, 'weights': 'distance'},\n",
       "  {'n_neighbors': 5, 'p': 2, 'weights': 'uniform'},\n",
       "  {'n_neighbors': 5, 'p': 2, 'weights': 'distance'},\n",
       "  {'n_neighbors': 6, 'p': 1, 'weights': 'uniform'},\n",
       "  {'n_neighbors': 6, 'p': 1, 'weights': 'distance'},\n",
       "  {'n_neighbors': 6, 'p': 2, 'weights': 'uniform'},\n",
       "  {'n_neighbors': 6, 'p': 2, 'weights': 'distance'},\n",
       "  {'n_neighbors': 7, 'p': 1, 'weights': 'uniform'},\n",
       "  {'n_neighbors': 7, 'p': 1, 'weights': 'distance'},\n",
       "  {'n_neighbors': 7, 'p': 2, 'weights': 'uniform'},\n",
       "  {'n_neighbors': 7, 'p': 2, 'weights': 'distance'},\n",
       "  {'n_neighbors': 8, 'p': 1, 'weights': 'uniform'},\n",
       "  {'n_neighbors': 8, 'p': 1, 'weights': 'distance'},\n",
       "  {'n_neighbors': 8, 'p': 2, 'weights': 'uniform'},\n",
       "  {'n_neighbors': 8, 'p': 2, 'weights': 'distance'},\n",
       "  {'n_neighbors': 9, 'p': 1, 'weights': 'uniform'},\n",
       "  {'n_neighbors': 9, 'p': 1, 'weights': 'distance'},\n",
       "  {'n_neighbors': 9, 'p': 2, 'weights': 'uniform'},\n",
       "  {'n_neighbors': 9, 'p': 2, 'weights': 'distance'},\n",
       "  {'n_neighbors': 10, 'p': 1, 'weights': 'uniform'},\n",
       "  {'n_neighbors': 10, 'p': 1, 'weights': 'distance'},\n",
       "  {'n_neighbors': 10, 'p': 2, 'weights': 'uniform'},\n",
       "  {'n_neighbors': 10, 'p': 2, 'weights': 'distance'},\n",
       "  {'n_neighbors': 11, 'p': 1, 'weights': 'uniform'},\n",
       "  {'n_neighbors': 11, 'p': 1, 'weights': 'distance'},\n",
       "  {'n_neighbors': 11, 'p': 2, 'weights': 'uniform'},\n",
       "  {'n_neighbors': 11, 'p': 2, 'weights': 'distance'},\n",
       "  {'n_neighbors': 12, 'p': 1, 'weights': 'uniform'},\n",
       "  {'n_neighbors': 12, 'p': 1, 'weights': 'distance'},\n",
       "  {'n_neighbors': 12, 'p': 2, 'weights': 'uniform'},\n",
       "  {'n_neighbors': 12, 'p': 2, 'weights': 'distance'},\n",
       "  {'n_neighbors': 13, 'p': 1, 'weights': 'uniform'},\n",
       "  {'n_neighbors': 13, 'p': 1, 'weights': 'distance'},\n",
       "  {'n_neighbors': 13, 'p': 2, 'weights': 'uniform'},\n",
       "  {'n_neighbors': 13, 'p': 2, 'weights': 'distance'},\n",
       "  {'n_neighbors': 14, 'p': 1, 'weights': 'uniform'},\n",
       "  {'n_neighbors': 14, 'p': 1, 'weights': 'distance'},\n",
       "  {'n_neighbors': 14, 'p': 2, 'weights': 'uniform'},\n",
       "  {'n_neighbors': 14, 'p': 2, 'weights': 'distance'},\n",
       "  {'n_neighbors': 15, 'p': 1, 'weights': 'uniform'},\n",
       "  {'n_neighbors': 15, 'p': 1, 'weights': 'distance'},\n",
       "  {'n_neighbors': 15, 'p': 2, 'weights': 'uniform'},\n",
       "  {'n_neighbors': 15, 'p': 2, 'weights': 'distance'},\n",
       "  {'n_neighbors': 16, 'p': 1, 'weights': 'uniform'},\n",
       "  {'n_neighbors': 16, 'p': 1, 'weights': 'distance'},\n",
       "  {'n_neighbors': 16, 'p': 2, 'weights': 'uniform'},\n",
       "  {'n_neighbors': 16, 'p': 2, 'weights': 'distance'},\n",
       "  {'n_neighbors': 17, 'p': 1, 'weights': 'uniform'},\n",
       "  {'n_neighbors': 17, 'p': 1, 'weights': 'distance'},\n",
       "  {'n_neighbors': 17, 'p': 2, 'weights': 'uniform'},\n",
       "  {'n_neighbors': 17, 'p': 2, 'weights': 'distance'},\n",
       "  {'n_neighbors': 18, 'p': 1, 'weights': 'uniform'},\n",
       "  {'n_neighbors': 18, 'p': 1, 'weights': 'distance'},\n",
       "  {'n_neighbors': 18, 'p': 2, 'weights': 'uniform'},\n",
       "  {'n_neighbors': 18, 'p': 2, 'weights': 'distance'},\n",
       "  {'n_neighbors': 19, 'p': 1, 'weights': 'uniform'},\n",
       "  {'n_neighbors': 19, 'p': 1, 'weights': 'distance'},\n",
       "  {'n_neighbors': 19, 'p': 2, 'weights': 'uniform'},\n",
       "  {'n_neighbors': 19, 'p': 2, 'weights': 'distance'},\n",
       "  {'n_neighbors': 20, 'p': 1, 'weights': 'uniform'},\n",
       "  {'n_neighbors': 20, 'p': 1, 'weights': 'distance'},\n",
       "  {'n_neighbors': 20, 'p': 2, 'weights': 'uniform'},\n",
       "  {'n_neighbors': 20, 'p': 2, 'weights': 'distance'},\n",
       "  {'n_neighbors': 21, 'p': 1, 'weights': 'uniform'},\n",
       "  {'n_neighbors': 21, 'p': 1, 'weights': 'distance'},\n",
       "  {'n_neighbors': 21, 'p': 2, 'weights': 'uniform'},\n",
       "  {'n_neighbors': 21, 'p': 2, 'weights': 'distance'},\n",
       "  {'n_neighbors': 22, 'p': 1, 'weights': 'uniform'},\n",
       "  {'n_neighbors': 22, 'p': 1, 'weights': 'distance'},\n",
       "  {'n_neighbors': 22, 'p': 2, 'weights': 'uniform'},\n",
       "  {'n_neighbors': 22, 'p': 2, 'weights': 'distance'},\n",
       "  {'n_neighbors': 23, 'p': 1, 'weights': 'uniform'},\n",
       "  {'n_neighbors': 23, 'p': 1, 'weights': 'distance'},\n",
       "  {'n_neighbors': 23, 'p': 2, 'weights': 'uniform'},\n",
       "  {'n_neighbors': 23, 'p': 2, 'weights': 'distance'},\n",
       "  {'n_neighbors': 24, 'p': 1, 'weights': 'uniform'},\n",
       "  {'n_neighbors': 24, 'p': 1, 'weights': 'distance'},\n",
       "  {'n_neighbors': 24, 'p': 2, 'weights': 'uniform'},\n",
       "  {'n_neighbors': 24, 'p': 2, 'weights': 'distance'},\n",
       "  {'n_neighbors': 25, 'p': 1, 'weights': 'uniform'},\n",
       "  {'n_neighbors': 25, 'p': 1, 'weights': 'distance'},\n",
       "  {'n_neighbors': 25, 'p': 2, 'weights': 'uniform'},\n",
       "  {'n_neighbors': 25, 'p': 2, 'weights': 'distance'},\n",
       "  {'n_neighbors': 26, 'p': 1, 'weights': 'uniform'},\n",
       "  {'n_neighbors': 26, 'p': 1, 'weights': 'distance'},\n",
       "  {'n_neighbors': 26, 'p': 2, 'weights': 'uniform'},\n",
       "  {'n_neighbors': 26, 'p': 2, 'weights': 'distance'},\n",
       "  {'n_neighbors': 27, 'p': 1, 'weights': 'uniform'},\n",
       "  {'n_neighbors': 27, 'p': 1, 'weights': 'distance'},\n",
       "  {'n_neighbors': 27, 'p': 2, 'weights': 'uniform'},\n",
       "  {'n_neighbors': 27, 'p': 2, 'weights': 'distance'},\n",
       "  {'n_neighbors': 28, 'p': 1, 'weights': 'uniform'},\n",
       "  {'n_neighbors': 28, 'p': 1, 'weights': 'distance'},\n",
       "  {'n_neighbors': 28, 'p': 2, 'weights': 'uniform'},\n",
       "  {'n_neighbors': 28, 'p': 2, 'weights': 'distance'},\n",
       "  {'n_neighbors': 29, 'p': 1, 'weights': 'uniform'},\n",
       "  {'n_neighbors': 29, 'p': 1, 'weights': 'distance'},\n",
       "  {'n_neighbors': 29, 'p': 2, 'weights': 'uniform'},\n",
       "  {'n_neighbors': 29, 'p': 2, 'weights': 'distance'},\n",
       "  {'n_neighbors': 30, 'p': 1, 'weights': 'uniform'},\n",
       "  {'n_neighbors': 30, 'p': 1, 'weights': 'distance'},\n",
       "  {'n_neighbors': 30, 'p': 2, 'weights': 'uniform'},\n",
       "  {'n_neighbors': 30, 'p': 2, 'weights': 'distance'},\n",
       "  {'n_neighbors': 31, 'p': 1, 'weights': 'uniform'},\n",
       "  {'n_neighbors': 31, 'p': 1, 'weights': 'distance'},\n",
       "  {'n_neighbors': 31, 'p': 2, 'weights': 'uniform'},\n",
       "  {'n_neighbors': 31, 'p': 2, 'weights': 'distance'},\n",
       "  {'n_neighbors': 32, 'p': 1, 'weights': 'uniform'},\n",
       "  {'n_neighbors': 32, 'p': 1, 'weights': 'distance'},\n",
       "  {'n_neighbors': 32, 'p': 2, 'weights': 'uniform'},\n",
       "  {'n_neighbors': 32, 'p': 2, 'weights': 'distance'},\n",
       "  {'n_neighbors': 33, 'p': 1, 'weights': 'uniform'},\n",
       "  {'n_neighbors': 33, 'p': 1, 'weights': 'distance'},\n",
       "  {'n_neighbors': 33, 'p': 2, 'weights': 'uniform'},\n",
       "  {'n_neighbors': 33, 'p': 2, 'weights': 'distance'},\n",
       "  {'n_neighbors': 34, 'p': 1, 'weights': 'uniform'},\n",
       "  {'n_neighbors': 34, 'p': 1, 'weights': 'distance'},\n",
       "  {'n_neighbors': 34, 'p': 2, 'weights': 'uniform'},\n",
       "  {'n_neighbors': 34, 'p': 2, 'weights': 'distance'},\n",
       "  {'n_neighbors': 35, 'p': 1, 'weights': 'uniform'},\n",
       "  {'n_neighbors': 35, 'p': 1, 'weights': 'distance'},\n",
       "  {'n_neighbors': 35, 'p': 2, 'weights': 'uniform'},\n",
       "  {'n_neighbors': 35, 'p': 2, 'weights': 'distance'},\n",
       "  {'n_neighbors': 36, 'p': 1, 'weights': 'uniform'},\n",
       "  {'n_neighbors': 36, 'p': 1, 'weights': 'distance'},\n",
       "  {'n_neighbors': 36, 'p': 2, 'weights': 'uniform'},\n",
       "  {'n_neighbors': 36, 'p': 2, 'weights': 'distance'},\n",
       "  {'n_neighbors': 37, 'p': 1, 'weights': 'uniform'},\n",
       "  {'n_neighbors': 37, 'p': 1, 'weights': 'distance'},\n",
       "  {'n_neighbors': 37, 'p': 2, 'weights': 'uniform'},\n",
       "  {'n_neighbors': 37, 'p': 2, 'weights': 'distance'},\n",
       "  {'n_neighbors': 38, 'p': 1, 'weights': 'uniform'},\n",
       "  {'n_neighbors': 38, 'p': 1, 'weights': 'distance'},\n",
       "  {'n_neighbors': 38, 'p': 2, 'weights': 'uniform'},\n",
       "  {'n_neighbors': 38, 'p': 2, 'weights': 'distance'},\n",
       "  {'n_neighbors': 39, 'p': 1, 'weights': 'uniform'},\n",
       "  {'n_neighbors': 39, 'p': 1, 'weights': 'distance'},\n",
       "  {'n_neighbors': 39, 'p': 2, 'weights': 'uniform'},\n",
       "  {'n_neighbors': 39, 'p': 2, 'weights': 'distance'},\n",
       "  {'n_neighbors': 40, 'p': 1, 'weights': 'uniform'},\n",
       "  {'n_neighbors': 40, 'p': 1, 'weights': 'distance'},\n",
       "  {'n_neighbors': 40, 'p': 2, 'weights': 'uniform'},\n",
       "  {'n_neighbors': 40, 'p': 2, 'weights': 'distance'},\n",
       "  {'n_neighbors': 41, 'p': 1, 'weights': 'uniform'},\n",
       "  {'n_neighbors': 41, 'p': 1, 'weights': 'distance'},\n",
       "  {'n_neighbors': 41, 'p': 2, 'weights': 'uniform'},\n",
       "  {'n_neighbors': 41, 'p': 2, 'weights': 'distance'},\n",
       "  {'n_neighbors': 42, 'p': 1, 'weights': 'uniform'},\n",
       "  {'n_neighbors': 42, 'p': 1, 'weights': 'distance'},\n",
       "  {'n_neighbors': 42, 'p': 2, 'weights': 'uniform'},\n",
       "  {'n_neighbors': 42, 'p': 2, 'weights': 'distance'},\n",
       "  {'n_neighbors': 43, 'p': 1, 'weights': 'uniform'},\n",
       "  {'n_neighbors': 43, 'p': 1, 'weights': 'distance'},\n",
       "  {'n_neighbors': 43, 'p': 2, 'weights': 'uniform'},\n",
       "  {'n_neighbors': 43, 'p': 2, 'weights': 'distance'},\n",
       "  {'n_neighbors': 44, 'p': 1, 'weights': 'uniform'},\n",
       "  {'n_neighbors': 44, 'p': 1, 'weights': 'distance'},\n",
       "  {'n_neighbors': 44, 'p': 2, 'weights': 'uniform'},\n",
       "  {'n_neighbors': 44, 'p': 2, 'weights': 'distance'},\n",
       "  {'n_neighbors': 45, 'p': 1, 'weights': 'uniform'},\n",
       "  {'n_neighbors': 45, 'p': 1, 'weights': 'distance'},\n",
       "  {'n_neighbors': 45, 'p': 2, 'weights': 'uniform'},\n",
       "  {'n_neighbors': 45, 'p': 2, 'weights': 'distance'},\n",
       "  {'n_neighbors': 46, 'p': 1, 'weights': 'uniform'},\n",
       "  {'n_neighbors': 46, 'p': 1, 'weights': 'distance'},\n",
       "  {'n_neighbors': 46, 'p': 2, 'weights': 'uniform'},\n",
       "  {'n_neighbors': 46, 'p': 2, 'weights': 'distance'},\n",
       "  {'n_neighbors': 47, 'p': 1, 'weights': 'uniform'},\n",
       "  {'n_neighbors': 47, 'p': 1, 'weights': 'distance'},\n",
       "  {'n_neighbors': 47, 'p': 2, 'weights': 'uniform'},\n",
       "  {'n_neighbors': 47, 'p': 2, 'weights': 'distance'},\n",
       "  {'n_neighbors': 48, 'p': 1, 'weights': 'uniform'},\n",
       "  {'n_neighbors': 48, 'p': 1, 'weights': 'distance'},\n",
       "  {'n_neighbors': 48, 'p': 2, 'weights': 'uniform'},\n",
       "  {'n_neighbors': 48, 'p': 2, 'weights': 'distance'},\n",
       "  {'n_neighbors': 49, 'p': 1, 'weights': 'uniform'},\n",
       "  {'n_neighbors': 49, 'p': 1, 'weights': 'distance'},\n",
       "  {'n_neighbors': 49, 'p': 2, 'weights': 'uniform'},\n",
       "  {'n_neighbors': 49, 'p': 2, 'weights': 'distance'},\n",
       "  {'n_neighbors': 50, 'p': 1, 'weights': 'uniform'},\n",
       "  {'n_neighbors': 50, 'p': 1, 'weights': 'distance'},\n",
       "  {'n_neighbors': 50, 'p': 2, 'weights': 'uniform'},\n",
       "  {'n_neighbors': 50, 'p': 2, 'weights': 'distance'}],\n",
       " 'split0_test_score': array([0.70833333, 0.70833333, 0.70833333, 0.70833333, 0.83333333,\n",
       "        0.70833333, 0.79166667, 0.70833333, 0.70833333, 0.70833333,\n",
       "        0.70833333, 0.70833333, 0.75      , 0.70833333, 0.75      ,\n",
       "        0.70833333, 0.75      , 0.70833333, 0.75      , 0.70833333,\n",
       "        0.75      , 0.70833333, 0.75      , 0.70833333, 0.75      ,\n",
       "        0.70833333, 0.75      , 0.70833333, 0.75      , 0.70833333,\n",
       "        0.70833333, 0.70833333, 0.70833333, 0.70833333, 0.66666667,\n",
       "        0.70833333, 0.66666667, 0.70833333, 0.66666667, 0.70833333,\n",
       "        0.66666667, 0.70833333, 0.66666667, 0.70833333, 0.66666667,\n",
       "        0.70833333, 0.70833333, 0.70833333, 0.70833333, 0.70833333,\n",
       "        0.75      , 0.70833333, 0.70833333, 0.70833333, 0.70833333,\n",
       "        0.70833333, 0.70833333, 0.70833333, 0.70833333, 0.70833333,\n",
       "        0.70833333, 0.70833333, 0.70833333, 0.70833333, 0.70833333,\n",
       "        0.70833333, 0.70833333, 0.70833333, 0.70833333, 0.70833333,\n",
       "        0.70833333, 0.70833333, 0.66666667, 0.70833333, 0.66666667,\n",
       "        0.70833333, 0.66666667, 0.70833333, 0.66666667, 0.70833333,\n",
       "        0.70833333, 0.70833333, 0.66666667, 0.70833333, 0.66666667,\n",
       "        0.70833333, 0.66666667, 0.70833333, 0.70833333, 0.70833333,\n",
       "        0.66666667, 0.70833333, 0.70833333, 0.70833333, 0.66666667,\n",
       "        0.70833333, 0.70833333, 0.70833333, 0.75      , 0.70833333,\n",
       "        0.70833333, 0.70833333, 0.70833333, 0.70833333, 0.70833333,\n",
       "        0.70833333, 0.70833333, 0.70833333, 0.70833333, 0.70833333,\n",
       "        0.70833333, 0.70833333, 0.75      , 0.70833333, 0.70833333,\n",
       "        0.70833333, 0.70833333, 0.70833333, 0.66666667, 0.70833333,\n",
       "        0.70833333, 0.70833333, 0.70833333, 0.70833333, 0.70833333,\n",
       "        0.70833333, 0.70833333, 0.70833333, 0.70833333, 0.70833333,\n",
       "        0.70833333, 0.70833333, 0.70833333, 0.70833333, 0.66666667,\n",
       "        0.70833333, 0.70833333, 0.70833333, 0.70833333, 0.70833333,\n",
       "        0.66666667, 0.70833333, 0.70833333, 0.70833333, 0.66666667,\n",
       "        0.70833333, 0.70833333, 0.70833333, 0.66666667, 0.70833333,\n",
       "        0.70833333, 0.70833333, 0.70833333, 0.70833333, 0.70833333,\n",
       "        0.70833333, 0.70833333, 0.70833333, 0.70833333, 0.70833333,\n",
       "        0.70833333, 0.70833333, 0.70833333, 0.70833333, 0.70833333,\n",
       "        0.70833333, 0.70833333, 0.70833333, 0.70833333, 0.70833333,\n",
       "        0.70833333, 0.70833333, 0.70833333, 0.70833333, 0.70833333,\n",
       "        0.70833333, 0.70833333, 0.70833333, 0.70833333, 0.70833333,\n",
       "        0.70833333, 0.70833333, 0.70833333, 0.70833333, 0.70833333,\n",
       "        0.70833333, 0.70833333, 0.70833333, 0.70833333, 0.70833333,\n",
       "        0.70833333, 0.70833333, 0.70833333, 0.70833333, 0.70833333,\n",
       "        0.70833333, 0.70833333, 0.70833333, 0.66666667, 0.70833333]),\n",
       " 'split1_test_score': array([0.70833333, 0.70833333, 0.70833333, 0.70833333, 0.75      ,\n",
       "        0.66666667, 0.75      , 0.66666667, 0.70833333, 0.66666667,\n",
       "        0.70833333, 0.70833333, 0.70833333, 0.66666667, 0.66666667,\n",
       "        0.70833333, 0.75      , 0.70833333, 0.75      , 0.75      ,\n",
       "        0.79166667, 0.75      , 0.79166667, 0.75      , 0.83333333,\n",
       "        0.75      , 0.83333333, 0.79166667, 0.70833333, 0.75      ,\n",
       "        0.70833333, 0.79166667, 0.83333333, 0.79166667, 0.83333333,\n",
       "        0.79166667, 0.79166667, 0.79166667, 0.75      , 0.75      ,\n",
       "        0.79166667, 0.79166667, 0.79166667, 0.79166667, 0.79166667,\n",
       "        0.79166667, 0.79166667, 0.79166667, 0.79166667, 0.79166667,\n",
       "        0.79166667, 0.79166667, 0.79166667, 0.79166667, 0.75      ,\n",
       "        0.75      , 0.79166667, 0.75      , 0.75      , 0.75      ,\n",
       "        0.79166667, 0.75      , 0.75      , 0.75      , 0.75      ,\n",
       "        0.75      , 0.70833333, 0.70833333, 0.75      , 0.75      ,\n",
       "        0.75      , 0.70833333, 0.70833333, 0.70833333, 0.75      ,\n",
       "        0.75      , 0.75      , 0.70833333, 0.75      , 0.70833333,\n",
       "        0.66666667, 0.70833333, 0.75      , 0.75      , 0.66666667,\n",
       "        0.75      , 0.75      , 0.70833333, 0.66666667, 0.70833333,\n",
       "        0.75      , 0.75      , 0.75      , 0.70833333, 0.75      ,\n",
       "        0.66666667, 0.75      , 0.70833333, 0.75      , 0.75      ,\n",
       "        0.66666667, 0.75      , 0.70833333, 0.70833333, 0.625     ,\n",
       "        0.75      , 0.70833333, 0.70833333, 0.66666667, 0.75      ,\n",
       "        0.70833333, 0.70833333, 0.625     , 0.75      , 0.70833333,\n",
       "        0.70833333, 0.625     , 0.75      , 0.70833333, 0.70833333,\n",
       "        0.70833333, 0.75      , 0.70833333, 0.75      , 0.70833333,\n",
       "        0.75      , 0.70833333, 0.75      , 0.70833333, 0.75      ,\n",
       "        0.70833333, 0.75      , 0.625     , 0.75      , 0.66666667,\n",
       "        0.70833333, 0.625     , 0.75      , 0.66666667, 0.70833333,\n",
       "        0.625     , 0.75      , 0.66666667, 0.70833333, 0.625     ,\n",
       "        0.75      , 0.75      , 0.75      , 0.625     , 0.75      ,\n",
       "        0.70833333, 0.75      , 0.625     , 0.75      , 0.70833333,\n",
       "        0.79166667, 0.625     , 0.75      , 0.66666667, 0.75      ,\n",
       "        0.625     , 0.75      , 0.66666667, 0.75      , 0.625     ,\n",
       "        0.75      , 0.66666667, 0.75      , 0.66666667, 0.70833333,\n",
       "        0.66666667, 0.75      , 0.625     , 0.70833333, 0.66666667,\n",
       "        0.70833333, 0.625     , 0.70833333, 0.66666667, 0.70833333,\n",
       "        0.58333333, 0.70833333, 0.66666667, 0.70833333, 0.625     ,\n",
       "        0.66666667, 0.66666667, 0.70833333, 0.625     , 0.66666667,\n",
       "        0.625     , 0.70833333, 0.625     , 0.70833333, 0.625     ,\n",
       "        0.70833333, 0.58333333, 0.70833333, 0.625     , 0.70833333]),\n",
       " 'split2_test_score': array([0.70833333, 0.70833333, 0.70833333, 0.70833333, 0.66666667,\n",
       "        0.70833333, 0.66666667, 0.70833333, 0.75      , 0.79166667,\n",
       "        0.83333333, 0.83333333, 0.75      , 0.79166667, 0.75      ,\n",
       "        0.83333333, 0.83333333, 0.79166667, 0.83333333, 0.79166667,\n",
       "        0.79166667, 0.75      , 0.75      , 0.79166667, 0.83333333,\n",
       "        0.79166667, 0.83333333, 0.79166667, 0.75      , 0.75      ,\n",
       "        0.83333333, 0.83333333, 0.79166667, 0.83333333, 0.79166667,\n",
       "        0.79166667, 0.75      , 0.75      , 0.79166667, 0.83333333,\n",
       "        0.83333333, 0.79166667, 0.79166667, 0.79166667, 0.83333333,\n",
       "        0.79166667, 0.79166667, 0.79166667, 0.79166667, 0.83333333,\n",
       "        0.875     , 0.79166667, 0.83333333, 0.83333333, 0.875     ,\n",
       "        0.83333333, 0.83333333, 0.79166667, 0.875     , 0.83333333,\n",
       "        0.91666667, 0.875     , 0.875     , 0.83333333, 0.83333333,\n",
       "        0.79166667, 0.875     , 0.79166667, 0.91666667, 0.875     ,\n",
       "        0.91666667, 0.83333333, 0.875     , 0.83333333, 0.83333333,\n",
       "        0.79166667, 0.91666667, 0.875     , 0.83333333, 0.83333333,\n",
       "        0.875     , 0.83333333, 0.79166667, 0.79166667, 0.83333333,\n",
       "        0.875     , 0.79166667, 0.875     , 0.79166667, 0.875     ,\n",
       "        0.79166667, 0.83333333, 0.79166667, 0.875     , 0.75      ,\n",
       "        0.875     , 0.75      , 0.83333333, 0.75      , 0.875     ,\n",
       "        0.83333333, 0.83333333, 0.75      , 0.875     , 0.83333333,\n",
       "        0.83333333, 0.79166667, 0.875     , 0.83333333, 0.875     ,\n",
       "        0.79166667, 0.91666667, 0.83333333, 0.83333333, 0.79166667,\n",
       "        0.91666667, 0.83333333, 0.875     , 0.875     , 0.91666667,\n",
       "        0.83333333, 0.875     , 0.83333333, 0.91666667, 0.875     ,\n",
       "        0.875     , 0.83333333, 0.875     , 0.83333333, 0.83333333,\n",
       "        0.83333333, 0.875     , 0.875     , 0.83333333, 0.83333333,\n",
       "        0.875     , 0.875     , 0.83333333, 0.79166667, 0.875     ,\n",
       "        0.875     , 0.83333333, 0.79166667, 0.83333333, 0.83333333,\n",
       "        0.83333333, 0.83333333, 0.875     , 0.83333333, 0.83333333,\n",
       "        0.79166667, 0.83333333, 0.79166667, 0.83333333, 0.79166667,\n",
       "        0.83333333, 0.79166667, 0.875     , 0.79166667, 0.83333333,\n",
       "        0.75      , 0.83333333, 0.83333333, 0.83333333, 0.83333333,\n",
       "        0.875     , 0.79166667, 0.83333333, 0.79166667, 0.875     ,\n",
       "        0.875     , 0.83333333, 0.79166667, 0.875     , 0.875     ,\n",
       "        0.83333333, 0.79166667, 0.83333333, 0.83333333, 0.83333333,\n",
       "        0.79166667, 0.83333333, 0.79166667, 0.83333333, 0.79166667,\n",
       "        0.83333333, 0.79166667, 0.83333333, 0.79166667, 0.875     ,\n",
       "        0.79166667, 0.875     , 0.75      , 0.875     , 0.79166667,\n",
       "        0.875     , 0.75      , 0.875     , 0.79166667, 0.875     ]),\n",
       " 'split3_test_score': array([0.75      , 0.75      , 0.75      , 0.75      , 0.70833333,\n",
       "        0.66666667, 0.66666667, 0.66666667, 0.66666667, 0.625     ,\n",
       "        0.625     , 0.625     , 0.70833333, 0.625     , 0.75      ,\n",
       "        0.66666667, 0.75      , 0.70833333, 0.75      , 0.66666667,\n",
       "        0.70833333, 0.66666667, 0.70833333, 0.66666667, 0.70833333,\n",
       "        0.66666667, 0.75      , 0.66666667, 0.66666667, 0.66666667,\n",
       "        0.70833333, 0.66666667, 0.83333333, 0.66666667, 0.75      ,\n",
       "        0.66666667, 0.75      , 0.66666667, 0.70833333, 0.66666667,\n",
       "        0.79166667, 0.66666667, 0.75      , 0.70833333, 0.83333333,\n",
       "        0.66666667, 0.75      , 0.70833333, 0.83333333, 0.66666667,\n",
       "        0.83333333, 0.66666667, 0.79166667, 0.79166667, 0.70833333,\n",
       "        0.75      , 0.875     , 0.79166667, 0.83333333, 0.70833333,\n",
       "        0.91666667, 0.79166667, 0.875     , 0.79166667, 0.91666667,\n",
       "        0.79166667, 0.83333333, 0.79166667, 0.95833333, 0.79166667,\n",
       "        0.79166667, 0.75      , 0.91666667, 0.75      , 0.875     ,\n",
       "        0.79166667, 0.95833333, 0.79166667, 0.83333333, 0.79166667,\n",
       "        0.95833333, 0.79166667, 0.875     , 0.79166667, 0.91666667,\n",
       "        0.79166667, 0.91666667, 0.75      , 0.875     , 0.79166667,\n",
       "        0.875     , 0.75      , 0.875     , 0.79166667, 0.83333333,\n",
       "        0.75      , 0.875     , 0.79166667, 0.875     , 0.75      ,\n",
       "        0.91666667, 0.79166667, 0.875     , 0.70833333, 0.875     ,\n",
       "        0.79166667, 0.83333333, 0.75      , 0.875     , 0.79166667,\n",
       "        0.79166667, 0.70833333, 0.875     , 0.79166667, 0.79166667,\n",
       "        0.70833333, 0.875     , 0.79166667, 0.83333333, 0.70833333,\n",
       "        0.875     , 0.79166667, 0.83333333, 0.70833333, 0.875     ,\n",
       "        0.79166667, 0.83333333, 0.75      , 0.875     , 0.75      ,\n",
       "        0.83333333, 0.75      , 0.79166667, 0.75      , 0.83333333,\n",
       "        0.70833333, 0.875     , 0.75      , 0.83333333, 0.70833333,\n",
       "        0.875     , 0.79166667, 0.83333333, 0.75      , 0.875     ,\n",
       "        0.75      , 0.875     , 0.75      , 0.79166667, 0.79166667,\n",
       "        0.83333333, 0.75      , 0.875     , 0.75      , 0.83333333,\n",
       "        0.70833333, 0.875     , 0.79166667, 0.83333333, 0.75      ,\n",
       "        0.875     , 0.75      , 0.875     , 0.79166667, 0.75      ,\n",
       "        0.75      , 0.75      , 0.79166667, 0.79166667, 0.75      ,\n",
       "        0.79166667, 0.75      , 0.79166667, 0.75      , 0.79166667,\n",
       "        0.75      , 0.75      , 0.75      , 0.83333333, 0.75      ,\n",
       "        0.75      , 0.75      , 0.79166667, 0.70833333, 0.79166667,\n",
       "        0.75      , 0.83333333, 0.70833333, 0.75      , 0.75      ,\n",
       "        0.83333333, 0.70833333, 0.79166667, 0.75      , 0.83333333,\n",
       "        0.75      , 0.75      , 0.75      , 0.83333333, 0.70833333]),\n",
       " 'split4_test_score': array([0.625     , 0.625     , 0.625     , 0.625     , 0.70833333,\n",
       "        0.66666667, 0.66666667, 0.66666667, 0.70833333, 0.70833333,\n",
       "        0.66666667, 0.66666667, 0.75      , 0.70833333, 0.70833333,\n",
       "        0.66666667, 0.58333333, 0.58333333, 0.54166667, 0.58333333,\n",
       "        0.66666667, 0.625     , 0.66666667, 0.58333333, 0.66666667,\n",
       "        0.625     , 0.66666667, 0.66666667, 0.66666667, 0.66666667,\n",
       "        0.70833333, 0.625     , 0.58333333, 0.58333333, 0.625     ,\n",
       "        0.66666667, 0.66666667, 0.625     , 0.70833333, 0.66666667,\n",
       "        0.66666667, 0.625     , 0.66666667, 0.70833333, 0.70833333,\n",
       "        0.66666667, 0.70833333, 0.70833333, 0.625     , 0.625     ,\n",
       "        0.66666667, 0.70833333, 0.70833333, 0.625     , 0.70833333,\n",
       "        0.66666667, 0.70833333, 0.70833333, 0.70833333, 0.66666667,\n",
       "        0.70833333, 0.66666667, 0.625     , 0.70833333, 0.75      ,\n",
       "        0.70833333, 0.75      , 0.70833333, 0.75      , 0.70833333,\n",
       "        0.75      , 0.70833333, 0.79166667, 0.70833333, 0.75      ,\n",
       "        0.66666667, 0.79166667, 0.70833333, 0.75      , 0.66666667,\n",
       "        0.79166667, 0.75      , 0.75      , 0.66666667, 0.83333333,\n",
       "        0.75      , 0.75      , 0.70833333, 0.83333333, 0.70833333,\n",
       "        0.70833333, 0.70833333, 0.83333333, 0.75      , 0.75      ,\n",
       "        0.70833333, 0.79166667, 0.70833333, 0.66666667, 0.625     ,\n",
       "        0.79166667, 0.70833333, 0.75      , 0.70833333, 0.75      ,\n",
       "        0.70833333, 0.70833333, 0.66666667, 0.75      , 0.70833333,\n",
       "        0.75      , 0.70833333, 0.75      , 0.70833333, 0.79166667,\n",
       "        0.70833333, 0.70833333, 0.70833333, 0.75      , 0.70833333,\n",
       "        0.66666667, 0.70833333, 0.79166667, 0.75      , 0.75      ,\n",
       "        0.70833333, 0.79166667, 0.75      , 0.75      , 0.70833333,\n",
       "        0.79166667, 0.75      , 0.70833333, 0.70833333, 0.79166667,\n",
       "        0.75      , 0.70833333, 0.70833333, 0.79166667, 0.75      ,\n",
       "        0.70833333, 0.70833333, 0.75      , 0.75      , 0.70833333,\n",
       "        0.70833333, 0.75      , 0.75      , 0.70833333, 0.75      ,\n",
       "        0.75      , 0.75      , 0.75      , 0.70833333, 0.75      ,\n",
       "        0.75      , 0.70833333, 0.70833333, 0.75      , 0.75      ,\n",
       "        0.70833333, 0.70833333, 0.75      , 0.75      , 0.70833333,\n",
       "        0.75      , 0.75      , 0.75      , 0.70833333, 0.75      ,\n",
       "        0.75      , 0.75      , 0.70833333, 0.75      , 0.75      ,\n",
       "        0.75      , 0.70833333, 0.75      , 0.75      , 0.75      ,\n",
       "        0.70833333, 0.75      , 0.70833333, 0.75      , 0.75      ,\n",
       "        0.75      , 0.70833333, 0.75      , 0.75      , 0.75      ,\n",
       "        0.70833333, 0.75      , 0.75      , 0.75      , 0.70833333,\n",
       "        0.75      , 0.70833333, 0.75      , 0.70833333, 0.75      ]),\n",
       " 'mean_test_score': array([0.7       , 0.7       , 0.7       , 0.7       , 0.73333333,\n",
       "        0.68333333, 0.70833333, 0.68333333, 0.70833333, 0.7       ,\n",
       "        0.70833333, 0.70833333, 0.73333333, 0.7       , 0.725     ,\n",
       "        0.71666667, 0.73333333, 0.7       , 0.725     , 0.7       ,\n",
       "        0.74166667, 0.7       , 0.73333333, 0.7       , 0.75833333,\n",
       "        0.70833333, 0.76666667, 0.725     , 0.70833333, 0.70833333,\n",
       "        0.73333333, 0.725     , 0.75      , 0.71666667, 0.73333333,\n",
       "        0.725     , 0.725     , 0.70833333, 0.725     , 0.725     ,\n",
       "        0.75      , 0.71666667, 0.73333333, 0.74166667, 0.76666667,\n",
       "        0.725     , 0.75      , 0.74166667, 0.75      , 0.725     ,\n",
       "        0.78333333, 0.73333333, 0.76666667, 0.75      , 0.75      ,\n",
       "        0.74166667, 0.78333333, 0.75      , 0.775     , 0.73333333,\n",
       "        0.80833333, 0.75833333, 0.76666667, 0.75833333, 0.79166667,\n",
       "        0.75      , 0.775     , 0.74166667, 0.81666667, 0.76666667,\n",
       "        0.78333333, 0.74166667, 0.79166667, 0.74166667, 0.775     ,\n",
       "        0.74166667, 0.81666667, 0.75833333, 0.76666667, 0.74166667,\n",
       "        0.8       , 0.75833333, 0.76666667, 0.74166667, 0.78333333,\n",
       "        0.775     , 0.775     , 0.75      , 0.775     , 0.75833333,\n",
       "        0.75833333, 0.75      , 0.79166667, 0.76666667, 0.75      ,\n",
       "        0.74166667, 0.775     , 0.75      , 0.75833333, 0.74166667,\n",
       "        0.78333333, 0.75833333, 0.75833333, 0.74166667, 0.75833333,\n",
       "        0.75833333, 0.75      , 0.74166667, 0.76666667, 0.76666667,\n",
       "        0.75      , 0.75      , 0.76666667, 0.75833333, 0.75833333,\n",
       "        0.75      , 0.75      , 0.76666667, 0.76666667, 0.75      ,\n",
       "        0.75833333, 0.76666667, 0.775     , 0.76666667, 0.78333333,\n",
       "        0.76666667, 0.775     , 0.76666667, 0.775     , 0.75      ,\n",
       "        0.775     , 0.76666667, 0.74166667, 0.75      , 0.75833333,\n",
       "        0.75      , 0.75833333, 0.75      , 0.75833333, 0.75      ,\n",
       "        0.75      , 0.75833333, 0.75      , 0.75      , 0.74166667,\n",
       "        0.75      , 0.78333333, 0.76666667, 0.725     , 0.76666667,\n",
       "        0.75833333, 0.75833333, 0.75      , 0.75      , 0.75833333,\n",
       "        0.75833333, 0.74166667, 0.76666667, 0.75      , 0.75833333,\n",
       "        0.73333333, 0.75      , 0.76666667, 0.76666667, 0.725     ,\n",
       "        0.76666667, 0.73333333, 0.76666667, 0.73333333, 0.75833333,\n",
       "        0.75833333, 0.75833333, 0.725     , 0.75833333, 0.75833333,\n",
       "        0.75      , 0.71666667, 0.75      , 0.75833333, 0.75      ,\n",
       "        0.70833333, 0.75      , 0.73333333, 0.74166667, 0.73333333,\n",
       "        0.74166667, 0.74166667, 0.74166667, 0.725     , 0.75      ,\n",
       "        0.73333333, 0.75      , 0.725     , 0.75833333, 0.73333333,\n",
       "        0.75833333, 0.7       , 0.75833333, 0.725     , 0.75      ]),\n",
       " 'std_test_score': array([0.04082483, 0.04082483, 0.04082483, 0.04082483, 0.05651942,\n",
       "        0.02041241, 0.05270463, 0.02041241, 0.02635231, 0.05527708,\n",
       "        0.06972167, 0.06972167, 0.02041241, 0.05527708, 0.03333333,\n",
       "        0.06123724, 0.08164966, 0.06666667, 0.09718253, 0.07168604,\n",
       "        0.04859127, 0.04859127, 0.04249183, 0.07168604, 0.06666667,\n",
       "        0.05892557, 0.06236096, 0.05651942, 0.0372678 , 0.0372678 ,\n",
       "        0.05      , 0.07728015, 0.09501462, 0.08897565, 0.07728015,\n",
       "        0.05651942, 0.05      , 0.05892557, 0.04249183, 0.06236096,\n",
       "        0.06972167, 0.06666667, 0.05651942, 0.04082483, 0.06770032,\n",
       "        0.05651942, 0.0372678 , 0.04082483, 0.0745356 , 0.07728015,\n",
       "        0.07168604, 0.05      , 0.05      , 0.0745356 , 0.06454972,\n",
       "        0.05527708, 0.06666667, 0.0372678 , 0.06770032, 0.05651942,\n",
       "        0.09354143, 0.07168604, 0.09718253, 0.04859127, 0.0745356 ,\n",
       "        0.0372678 , 0.06770032, 0.04082483, 0.10069205, 0.06236096,\n",
       "        0.07168604, 0.04859127, 0.09501462, 0.04859127, 0.07264832,\n",
       "        0.04859127, 0.10736749, 0.06666667, 0.06236096, 0.06123724,\n",
       "        0.10671874, 0.04859127, 0.06770032, 0.04859127, 0.1       ,\n",
       "        0.05651942, 0.08164966, 0.06454972, 0.07728015, 0.06666667,\n",
       "        0.07168604, 0.04564355, 0.05892557, 0.06236096, 0.05270463,\n",
       "        0.07168604, 0.05651942, 0.05270463, 0.06666667, 0.08079466,\n",
       "        0.08897565, 0.04859127, 0.06123724, 0.06666667, 0.08897565,\n",
       "        0.04859127, 0.05270463, 0.07168604, 0.07728015, 0.06236096,\n",
       "        0.0372678 , 0.08333333, 0.08579692, 0.04859127, 0.04082483,\n",
       "        0.08333333, 0.09128709, 0.06236096, 0.07728015, 0.08333333,\n",
       "        0.08079466, 0.06236096, 0.05651942, 0.07728015, 0.07637626,\n",
       "        0.06236096, 0.05651942, 0.05651942, 0.06770032, 0.04564355,\n",
       "        0.05651942, 0.05651942, 0.08498366, 0.04564355, 0.07637626,\n",
       "        0.06454972, 0.1       , 0.04564355, 0.06123724, 0.06454972,\n",
       "        0.10540926, 0.04859127, 0.05892557, 0.04564355, 0.09646531,\n",
       "        0.04564355, 0.06123724, 0.05651942, 0.07728015, 0.04249183,\n",
       "        0.04859127, 0.04082483, 0.08333333, 0.04564355, 0.04859127,\n",
       "        0.04859127, 0.08498366, 0.06236096, 0.05892557, 0.04082483,\n",
       "        0.08164966, 0.04564355, 0.07728015, 0.04249183, 0.06770032,\n",
       "        0.05651942, 0.04249183, 0.04249183, 0.05      , 0.06123724,\n",
       "        0.07168604, 0.04082483, 0.06236096, 0.06123724, 0.07168604,\n",
       "        0.04564355, 0.05527708, 0.04564355, 0.06666667, 0.04564355,\n",
       "        0.06972167, 0.04564355, 0.05      , 0.04859127, 0.06236096,\n",
       "        0.05527708, 0.06123724, 0.04859127, 0.05651942, 0.06972167,\n",
       "        0.07264832, 0.06454972, 0.05651942, 0.06123724, 0.07264832,\n",
       "        0.06123724, 0.06123724, 0.06123724, 0.07728015, 0.06454972]),\n",
       " 'rank_test_score': array([190, 190, 190, 190, 143, 199, 181, 199, 179, 190, 181, 181, 143,\n",
       "        190, 160, 177, 143, 188, 160, 190, 139, 190, 151, 190,  51, 181,\n",
       "         26, 171, 181, 181, 143, 160,  84, 175, 151, 171, 171, 181, 160,\n",
       "        160, 121, 177, 151, 123,  26, 171, 103, 123, 103, 160,  11, 151,\n",
       "         26, 103,  84, 123,   8, 103,  15, 143,   3,  74,  26,  51,   5,\n",
       "        103,  15, 123,   1,  26,  11, 123,   7, 123,  17, 139,   2,  51,\n",
       "         26, 139,   4,  74,  50, 139,  11,  17,  25,  84,  17,  51,  74,\n",
       "         84,   5,  26, 103, 123,  17, 103,  74, 123,  11,  51,  51, 122,\n",
       "         51,  51,  84, 123,  26,  26, 103,  84,  26,  51,  74,  84,  84,\n",
       "         26,  26,  84,  74,  26,  17,  26,   8,  26,  17,  26,  17,  84,\n",
       "         17,  26, 123,  84,  74,  84,  51,  84,  74,  84, 103,  51, 103,\n",
       "        103, 123,  84,   8,  26, 160,  26,  51,  51, 103,  84,  51,  51,\n",
       "        123,  26, 103,  51, 143,  84,  26,  26, 159,  26, 151,  26, 151,\n",
       "         51,  74,  51, 160,  51,  74, 103, 175, 103,  51, 103, 179, 103,\n",
       "        151, 123, 151, 123, 123, 123, 160, 103, 143,  84, 160,  51, 143,\n",
       "         51, 188,  51, 160,  84])}"
      ]
     },
     "execution_count": 40,
     "metadata": {},
     "output_type": "execute_result"
    }
   ],
   "source": [
    "gs = GridSearchCV(estimator = KNeighborsClassifier(),\n",
    "                  param_grid = {\"n_neighbors\": range(1,51),\n",
    "                                \"weights\": ['uniform', 'distance'],\n",
    "                                \"p\": [1,2]},\n",
    "                  cv=5)\n",
    "\n",
    "gs.fit(X_train, y_train)\n",
    "\n",
    "gs.cv_results_"
   ]
  },
  {
   "cell_type": "code",
   "execution_count": 41,
   "id": "1660dadf",
   "metadata": {},
   "outputs": [
    {
     "data": {
      "text/html": [
       "<div>\n",
       "<style scoped>\n",
       "    .dataframe tbody tr th:only-of-type {\n",
       "        vertical-align: middle;\n",
       "    }\n",
       "\n",
       "    .dataframe tbody tr th {\n",
       "        vertical-align: top;\n",
       "    }\n",
       "\n",
       "    .dataframe thead th {\n",
       "        text-align: right;\n",
       "    }\n",
       "</style>\n",
       "<table border=\"1\" class=\"dataframe\">\n",
       "  <thead>\n",
       "    <tr style=\"text-align: right;\">\n",
       "      <th></th>\n",
       "      <th>mean_fit_time</th>\n",
       "      <th>std_fit_time</th>\n",
       "      <th>mean_score_time</th>\n",
       "      <th>std_score_time</th>\n",
       "      <th>param_n_neighbors</th>\n",
       "      <th>param_p</th>\n",
       "      <th>param_weights</th>\n",
       "      <th>params</th>\n",
       "      <th>split0_test_score</th>\n",
       "      <th>split1_test_score</th>\n",
       "      <th>split2_test_score</th>\n",
       "      <th>split3_test_score</th>\n",
       "      <th>split4_test_score</th>\n",
       "      <th>mean_test_score</th>\n",
       "      <th>std_test_score</th>\n",
       "      <th>rank_test_score</th>\n",
       "    </tr>\n",
       "  </thead>\n",
       "  <tbody>\n",
       "    <tr>\n",
       "      <th>0</th>\n",
       "      <td>0.003633</td>\n",
       "      <td>0.000729</td>\n",
       "      <td>0.025484</td>\n",
       "      <td>0.041426</td>\n",
       "      <td>1</td>\n",
       "      <td>1</td>\n",
       "      <td>uniform</td>\n",
       "      <td>{'n_neighbors': 1, 'p': 1, 'weights': 'uniform'}</td>\n",
       "      <td>0.708333</td>\n",
       "      <td>0.708333</td>\n",
       "      <td>0.708333</td>\n",
       "      <td>0.750000</td>\n",
       "      <td>0.625000</td>\n",
       "      <td>0.700000</td>\n",
       "      <td>0.040825</td>\n",
       "      <td>190</td>\n",
       "    </tr>\n",
       "    <tr>\n",
       "      <th>1</th>\n",
       "      <td>0.002812</td>\n",
       "      <td>0.000408</td>\n",
       "      <td>0.002788</td>\n",
       "      <td>0.000439</td>\n",
       "      <td>1</td>\n",
       "      <td>1</td>\n",
       "      <td>distance</td>\n",
       "      <td>{'n_neighbors': 1, 'p': 1, 'weights': 'distance'}</td>\n",
       "      <td>0.708333</td>\n",
       "      <td>0.708333</td>\n",
       "      <td>0.708333</td>\n",
       "      <td>0.750000</td>\n",
       "      <td>0.625000</td>\n",
       "      <td>0.700000</td>\n",
       "      <td>0.040825</td>\n",
       "      <td>190</td>\n",
       "    </tr>\n",
       "    <tr>\n",
       "      <th>2</th>\n",
       "      <td>0.002360</td>\n",
       "      <td>0.000491</td>\n",
       "      <td>0.003845</td>\n",
       "      <td>0.000424</td>\n",
       "      <td>1</td>\n",
       "      <td>2</td>\n",
       "      <td>uniform</td>\n",
       "      <td>{'n_neighbors': 1, 'p': 2, 'weights': 'uniform'}</td>\n",
       "      <td>0.708333</td>\n",
       "      <td>0.708333</td>\n",
       "      <td>0.708333</td>\n",
       "      <td>0.750000</td>\n",
       "      <td>0.625000</td>\n",
       "      <td>0.700000</td>\n",
       "      <td>0.040825</td>\n",
       "      <td>190</td>\n",
       "    </tr>\n",
       "    <tr>\n",
       "      <th>3</th>\n",
       "      <td>0.002958</td>\n",
       "      <td>0.000559</td>\n",
       "      <td>0.002436</td>\n",
       "      <td>0.000477</td>\n",
       "      <td>1</td>\n",
       "      <td>2</td>\n",
       "      <td>distance</td>\n",
       "      <td>{'n_neighbors': 1, 'p': 2, 'weights': 'distance'}</td>\n",
       "      <td>0.708333</td>\n",
       "      <td>0.708333</td>\n",
       "      <td>0.708333</td>\n",
       "      <td>0.750000</td>\n",
       "      <td>0.625000</td>\n",
       "      <td>0.700000</td>\n",
       "      <td>0.040825</td>\n",
       "      <td>190</td>\n",
       "    </tr>\n",
       "    <tr>\n",
       "      <th>4</th>\n",
       "      <td>0.002574</td>\n",
       "      <td>0.000501</td>\n",
       "      <td>0.003265</td>\n",
       "      <td>0.000334</td>\n",
       "      <td>2</td>\n",
       "      <td>1</td>\n",
       "      <td>uniform</td>\n",
       "      <td>{'n_neighbors': 2, 'p': 1, 'weights': 'uniform'}</td>\n",
       "      <td>0.833333</td>\n",
       "      <td>0.750000</td>\n",
       "      <td>0.666667</td>\n",
       "      <td>0.708333</td>\n",
       "      <td>0.708333</td>\n",
       "      <td>0.733333</td>\n",
       "      <td>0.056519</td>\n",
       "      <td>143</td>\n",
       "    </tr>\n",
       "    <tr>\n",
       "      <th>...</th>\n",
       "      <td>...</td>\n",
       "      <td>...</td>\n",
       "      <td>...</td>\n",
       "      <td>...</td>\n",
       "      <td>...</td>\n",
       "      <td>...</td>\n",
       "      <td>...</td>\n",
       "      <td>...</td>\n",
       "      <td>...</td>\n",
       "      <td>...</td>\n",
       "      <td>...</td>\n",
       "      <td>...</td>\n",
       "      <td>...</td>\n",
       "      <td>...</td>\n",
       "      <td>...</td>\n",
       "      <td>...</td>\n",
       "    </tr>\n",
       "    <tr>\n",
       "      <th>195</th>\n",
       "      <td>0.003545</td>\n",
       "      <td>0.000455</td>\n",
       "      <td>0.003362</td>\n",
       "      <td>0.000436</td>\n",
       "      <td>49</td>\n",
       "      <td>2</td>\n",
       "      <td>distance</td>\n",
       "      <td>{'n_neighbors': 49, 'p': 2, 'weights': 'distan...</td>\n",
       "      <td>0.708333</td>\n",
       "      <td>0.708333</td>\n",
       "      <td>0.875000</td>\n",
       "      <td>0.750000</td>\n",
       "      <td>0.750000</td>\n",
       "      <td>0.758333</td>\n",
       "      <td>0.061237</td>\n",
       "      <td>51</td>\n",
       "    </tr>\n",
       "    <tr>\n",
       "      <th>196</th>\n",
       "      <td>0.002252</td>\n",
       "      <td>0.000684</td>\n",
       "      <td>0.003089</td>\n",
       "      <td>0.000694</td>\n",
       "      <td>50</td>\n",
       "      <td>1</td>\n",
       "      <td>uniform</td>\n",
       "      <td>{'n_neighbors': 50, 'p': 1, 'weights': 'uniform'}</td>\n",
       "      <td>0.708333</td>\n",
       "      <td>0.583333</td>\n",
       "      <td>0.750000</td>\n",
       "      <td>0.750000</td>\n",
       "      <td>0.708333</td>\n",
       "      <td>0.700000</td>\n",
       "      <td>0.061237</td>\n",
       "      <td>188</td>\n",
       "    </tr>\n",
       "    <tr>\n",
       "      <th>197</th>\n",
       "      <td>0.002729</td>\n",
       "      <td>0.000374</td>\n",
       "      <td>0.002765</td>\n",
       "      <td>0.000397</td>\n",
       "      <td>50</td>\n",
       "      <td>1</td>\n",
       "      <td>distance</td>\n",
       "      <td>{'n_neighbors': 50, 'p': 1, 'weights': 'distan...</td>\n",
       "      <td>0.708333</td>\n",
       "      <td>0.708333</td>\n",
       "      <td>0.875000</td>\n",
       "      <td>0.750000</td>\n",
       "      <td>0.750000</td>\n",
       "      <td>0.758333</td>\n",
       "      <td>0.061237</td>\n",
       "      <td>51</td>\n",
       "    </tr>\n",
       "    <tr>\n",
       "      <th>198</th>\n",
       "      <td>0.002897</td>\n",
       "      <td>0.000730</td>\n",
       "      <td>0.003994</td>\n",
       "      <td>0.000707</td>\n",
       "      <td>50</td>\n",
       "      <td>2</td>\n",
       "      <td>uniform</td>\n",
       "      <td>{'n_neighbors': 50, 'p': 2, 'weights': 'uniform'}</td>\n",
       "      <td>0.666667</td>\n",
       "      <td>0.625000</td>\n",
       "      <td>0.791667</td>\n",
       "      <td>0.833333</td>\n",
       "      <td>0.708333</td>\n",
       "      <td>0.725000</td>\n",
       "      <td>0.077280</td>\n",
       "      <td>160</td>\n",
       "    </tr>\n",
       "    <tr>\n",
       "      <th>199</th>\n",
       "      <td>0.002715</td>\n",
       "      <td>0.000825</td>\n",
       "      <td>0.003575</td>\n",
       "      <td>0.001869</td>\n",
       "      <td>50</td>\n",
       "      <td>2</td>\n",
       "      <td>distance</td>\n",
       "      <td>{'n_neighbors': 50, 'p': 2, 'weights': 'distan...</td>\n",
       "      <td>0.708333</td>\n",
       "      <td>0.708333</td>\n",
       "      <td>0.875000</td>\n",
       "      <td>0.708333</td>\n",
       "      <td>0.750000</td>\n",
       "      <td>0.750000</td>\n",
       "      <td>0.064550</td>\n",
       "      <td>84</td>\n",
       "    </tr>\n",
       "  </tbody>\n",
       "</table>\n",
       "<p>200 rows × 16 columns</p>\n",
       "</div>"
      ],
      "text/plain": [
       "     mean_fit_time  std_fit_time  mean_score_time  std_score_time  \\\n",
       "0         0.003633      0.000729         0.025484        0.041426   \n",
       "1         0.002812      0.000408         0.002788        0.000439   \n",
       "2         0.002360      0.000491         0.003845        0.000424   \n",
       "3         0.002958      0.000559         0.002436        0.000477   \n",
       "4         0.002574      0.000501         0.003265        0.000334   \n",
       "..             ...           ...              ...             ...   \n",
       "195       0.003545      0.000455         0.003362        0.000436   \n",
       "196       0.002252      0.000684         0.003089        0.000694   \n",
       "197       0.002729      0.000374         0.002765        0.000397   \n",
       "198       0.002897      0.000730         0.003994        0.000707   \n",
       "199       0.002715      0.000825         0.003575        0.001869   \n",
       "\n",
       "    param_n_neighbors param_p param_weights  \\\n",
       "0                   1       1       uniform   \n",
       "1                   1       1      distance   \n",
       "2                   1       2       uniform   \n",
       "3                   1       2      distance   \n",
       "4                   2       1       uniform   \n",
       "..                ...     ...           ...   \n",
       "195                49       2      distance   \n",
       "196                50       1       uniform   \n",
       "197                50       1      distance   \n",
       "198                50       2       uniform   \n",
       "199                50       2      distance   \n",
       "\n",
       "                                                params  split0_test_score  \\\n",
       "0     {'n_neighbors': 1, 'p': 1, 'weights': 'uniform'}           0.708333   \n",
       "1    {'n_neighbors': 1, 'p': 1, 'weights': 'distance'}           0.708333   \n",
       "2     {'n_neighbors': 1, 'p': 2, 'weights': 'uniform'}           0.708333   \n",
       "3    {'n_neighbors': 1, 'p': 2, 'weights': 'distance'}           0.708333   \n",
       "4     {'n_neighbors': 2, 'p': 1, 'weights': 'uniform'}           0.833333   \n",
       "..                                                 ...                ...   \n",
       "195  {'n_neighbors': 49, 'p': 2, 'weights': 'distan...           0.708333   \n",
       "196  {'n_neighbors': 50, 'p': 1, 'weights': 'uniform'}           0.708333   \n",
       "197  {'n_neighbors': 50, 'p': 1, 'weights': 'distan...           0.708333   \n",
       "198  {'n_neighbors': 50, 'p': 2, 'weights': 'uniform'}           0.666667   \n",
       "199  {'n_neighbors': 50, 'p': 2, 'weights': 'distan...           0.708333   \n",
       "\n",
       "     split1_test_score  split2_test_score  split3_test_score  \\\n",
       "0             0.708333           0.708333           0.750000   \n",
       "1             0.708333           0.708333           0.750000   \n",
       "2             0.708333           0.708333           0.750000   \n",
       "3             0.708333           0.708333           0.750000   \n",
       "4             0.750000           0.666667           0.708333   \n",
       "..                 ...                ...                ...   \n",
       "195           0.708333           0.875000           0.750000   \n",
       "196           0.583333           0.750000           0.750000   \n",
       "197           0.708333           0.875000           0.750000   \n",
       "198           0.625000           0.791667           0.833333   \n",
       "199           0.708333           0.875000           0.708333   \n",
       "\n",
       "     split4_test_score  mean_test_score  std_test_score  rank_test_score  \n",
       "0             0.625000         0.700000        0.040825              190  \n",
       "1             0.625000         0.700000        0.040825              190  \n",
       "2             0.625000         0.700000        0.040825              190  \n",
       "3             0.625000         0.700000        0.040825              190  \n",
       "4             0.708333         0.733333        0.056519              143  \n",
       "..                 ...              ...             ...              ...  \n",
       "195           0.750000         0.758333        0.061237               51  \n",
       "196           0.708333         0.700000        0.061237              188  \n",
       "197           0.750000         0.758333        0.061237               51  \n",
       "198           0.708333         0.725000        0.077280              160  \n",
       "199           0.750000         0.750000        0.064550               84  \n",
       "\n",
       "[200 rows x 16 columns]"
      ]
     },
     "execution_count": 41,
     "metadata": {},
     "output_type": "execute_result"
    }
   ],
   "source": [
    "results = pd.DataFrame(gs.cv_results_)\n",
    "results"
   ]
  },
  {
   "cell_type": "code",
   "execution_count": 42,
   "id": "fbc209c3",
   "metadata": {},
   "outputs": [
    {
     "data": {
      "text/html": [
       "<div>\n",
       "<style scoped>\n",
       "    .dataframe tbody tr th:only-of-type {\n",
       "        vertical-align: middle;\n",
       "    }\n",
       "\n",
       "    .dataframe tbody tr th {\n",
       "        vertical-align: top;\n",
       "    }\n",
       "\n",
       "    .dataframe thead th {\n",
       "        text-align: right;\n",
       "    }\n",
       "</style>\n",
       "<table border=\"1\" class=\"dataframe\">\n",
       "  <thead>\n",
       "    <tr style=\"text-align: right;\">\n",
       "      <th></th>\n",
       "      <th>param_n_neighbors</th>\n",
       "      <th>param_weights</th>\n",
       "      <th>param_p</th>\n",
       "      <th>mean_test_score</th>\n",
       "      <th>rank_test_score</th>\n",
       "    </tr>\n",
       "  </thead>\n",
       "  <tbody>\n",
       "    <tr>\n",
       "      <th>0</th>\n",
       "      <td>1</td>\n",
       "      <td>uniform</td>\n",
       "      <td>1</td>\n",
       "      <td>0.700000</td>\n",
       "      <td>190</td>\n",
       "    </tr>\n",
       "    <tr>\n",
       "      <th>1</th>\n",
       "      <td>1</td>\n",
       "      <td>distance</td>\n",
       "      <td>1</td>\n",
       "      <td>0.700000</td>\n",
       "      <td>190</td>\n",
       "    </tr>\n",
       "    <tr>\n",
       "      <th>2</th>\n",
       "      <td>1</td>\n",
       "      <td>uniform</td>\n",
       "      <td>2</td>\n",
       "      <td>0.700000</td>\n",
       "      <td>190</td>\n",
       "    </tr>\n",
       "    <tr>\n",
       "      <th>3</th>\n",
       "      <td>1</td>\n",
       "      <td>distance</td>\n",
       "      <td>2</td>\n",
       "      <td>0.700000</td>\n",
       "      <td>190</td>\n",
       "    </tr>\n",
       "    <tr>\n",
       "      <th>4</th>\n",
       "      <td>2</td>\n",
       "      <td>uniform</td>\n",
       "      <td>1</td>\n",
       "      <td>0.733333</td>\n",
       "      <td>143</td>\n",
       "    </tr>\n",
       "    <tr>\n",
       "      <th>5</th>\n",
       "      <td>2</td>\n",
       "      <td>distance</td>\n",
       "      <td>1</td>\n",
       "      <td>0.683333</td>\n",
       "      <td>199</td>\n",
       "    </tr>\n",
       "    <tr>\n",
       "      <th>6</th>\n",
       "      <td>2</td>\n",
       "      <td>uniform</td>\n",
       "      <td>2</td>\n",
       "      <td>0.708333</td>\n",
       "      <td>181</td>\n",
       "    </tr>\n",
       "    <tr>\n",
       "      <th>7</th>\n",
       "      <td>2</td>\n",
       "      <td>distance</td>\n",
       "      <td>2</td>\n",
       "      <td>0.683333</td>\n",
       "      <td>199</td>\n",
       "    </tr>\n",
       "    <tr>\n",
       "      <th>8</th>\n",
       "      <td>3</td>\n",
       "      <td>uniform</td>\n",
       "      <td>1</td>\n",
       "      <td>0.708333</td>\n",
       "      <td>179</td>\n",
       "    </tr>\n",
       "    <tr>\n",
       "      <th>9</th>\n",
       "      <td>3</td>\n",
       "      <td>distance</td>\n",
       "      <td>1</td>\n",
       "      <td>0.700000</td>\n",
       "      <td>190</td>\n",
       "    </tr>\n",
       "  </tbody>\n",
       "</table>\n",
       "</div>"
      ],
      "text/plain": [
       "  param_n_neighbors param_weights param_p  mean_test_score  rank_test_score\n",
       "0                 1       uniform       1         0.700000              190\n",
       "1                 1      distance       1         0.700000              190\n",
       "2                 1       uniform       2         0.700000              190\n",
       "3                 1      distance       2         0.700000              190\n",
       "4                 2       uniform       1         0.733333              143\n",
       "5                 2      distance       1         0.683333              199\n",
       "6                 2       uniform       2         0.708333              181\n",
       "7                 2      distance       2         0.683333              199\n",
       "8                 3       uniform       1         0.708333              179\n",
       "9                 3      distance       1         0.700000              190"
      ]
     },
     "execution_count": 42,
     "metadata": {},
     "output_type": "execute_result"
    }
   ],
   "source": [
    "results[[\"param_n_neighbors\", \"param_weights\", \"param_p\", \"mean_test_score\", \"rank_test_score\"]].head(10)"
   ]
  },
  {
   "cell_type": "code",
   "execution_count": 43,
   "id": "610a3f6e",
   "metadata": {},
   "outputs": [
    {
     "data": {
      "text/plain": [
       "0.8166666666666668"
      ]
     },
     "execution_count": 43,
     "metadata": {},
     "output_type": "execute_result"
    }
   ],
   "source": [
    "gs.best_score_"
   ]
  },
  {
   "cell_type": "code",
   "execution_count": 44,
   "id": "c2fdd489",
   "metadata": {},
   "outputs": [
    {
     "data": {
      "text/plain": [
       "{'n_neighbors': 18, 'p': 1, 'weights': 'uniform'}"
      ]
     },
     "execution_count": 44,
     "metadata": {},
     "output_type": "execute_result"
    }
   ],
   "source": [
    "gs.best_params_"
   ]
  },
  {
   "cell_type": "code",
   "execution_count": 45,
   "id": "36ea85e8",
   "metadata": {},
   "outputs": [
    {
     "data": {
      "text/plain": [
       "0.8"
      ]
     },
     "execution_count": 45,
     "metadata": {},
     "output_type": "execute_result"
    }
   ],
   "source": [
    "y_pred = gs.predict(X_test)\n",
    "accuracy_score(y_test, y_pred)"
   ]
  },
  {
   "cell_type": "code",
   "execution_count": 46,
   "id": "336d3cd6",
   "metadata": {},
   "outputs": [
    {
     "data": {
      "text/plain": [
       "0.7666666666666667"
      ]
     },
     "execution_count": 46,
     "metadata": {},
     "output_type": "execute_result"
    }
   ],
   "source": [
    "rs = RandomizedSearchCV(estimator = KNeighborsClassifier(),\n",
    "                        param_distributions = {\"n_neighbors\": range(1,51),\n",
    "                                               \"weights\": ['uniform', 'distance'],\n",
    "                                               \"p\": [1,2]},\n",
    "                        cv=5,\n",
    "                        n_iter=10)\n",
    "\n",
    "rs.fit(X_train, y_train)\n",
    "\n",
    "rs.best_score_"
   ]
  },
  {
   "cell_type": "code",
   "execution_count": 48,
   "id": "ac733d91",
   "metadata": {},
   "outputs": [
    {
     "data": {
      "text/plain": [
       "{'weights': 'uniform', 'p': 1, 'n_neighbors': 28}"
      ]
     },
     "execution_count": 48,
     "metadata": {},
     "output_type": "execute_result"
    }
   ],
   "source": [
    "rs.best_params_"
   ]
  },
  {
   "cell_type": "code",
   "execution_count": 47,
   "id": "62dcc8eb",
   "metadata": {},
   "outputs": [
    {
     "data": {
      "text/plain": [
       "0.8333333333333334"
      ]
     },
     "execution_count": 47,
     "metadata": {},
     "output_type": "execute_result"
    }
   ],
   "source": [
    "y_pred = rs.predict(X_test)\n",
    "accuracy_score(y_test, y_pred)"
   ]
  },
  {
   "cell_type": "markdown",
   "id": "0a6a0ac5",
   "metadata": {},
   "source": [
    "##  4) Use sklearn to implement K-NN and mlxtend to plot the desicion boundary"
   ]
  },
  {
   "cell_type": "code",
   "execution_count": null,
   "id": "cdabdabb",
   "metadata": {},
   "outputs": [],
   "source": [
    "#pip install mlxtend"
   ]
  },
  {
   "cell_type": "code",
   "execution_count": 49,
   "id": "852bcf70",
   "metadata": {},
   "outputs": [],
   "source": [
    "from mlxtend.plotting import plot_decision_regions"
   ]
  },
  {
   "cell_type": "code",
   "execution_count": 50,
   "id": "0ae1270c",
   "metadata": {},
   "outputs": [
    {
     "data": {
      "text/plain": [
       "array([0, 0, 0, 0, 0, 0, 0, 0, 0, 0, 0, 0, 0, 0, 0, 0, 0, 0, 0, 0, 0, 0,\n",
       "       0, 0, 0, 0, 0, 0, 0, 0, 0, 0, 0, 0, 0, 0, 0, 0, 0, 0, 0, 0, 0, 0,\n",
       "       0, 0, 0, 0, 0, 0, 1, 1, 1, 1, 1, 1, 1, 1, 1, 1, 1, 1, 1, 1, 1, 1,\n",
       "       1, 1, 1, 1, 1, 1, 1, 1, 1, 1, 1, 1, 1, 1, 1, 1, 1, 1, 1, 1, 1, 1,\n",
       "       1, 1, 1, 1, 1, 1, 1, 1, 1, 1, 1, 1, 2, 2, 2, 2, 2, 2, 2, 2, 2, 2,\n",
       "       2, 2, 2, 2, 2, 2, 2, 2, 2, 2, 2, 2, 2, 2, 2, 2, 2, 2, 2, 2, 2, 2,\n",
       "       2, 2, 2, 2, 2, 2, 2, 2, 2, 2, 2, 2, 2, 2, 2, 2, 2, 2])"
      ]
     },
     "execution_count": 50,
     "metadata": {},
     "output_type": "execute_result"
    }
   ],
   "source": [
    "from sklearn.preprocessing import LabelEncoder\n",
    "\n",
    "le = LabelEncoder()\n",
    "y = le.fit_transform(y)\n",
    "y"
   ]
  },
  {
   "cell_type": "code",
   "execution_count": 51,
   "id": "234947e1",
   "metadata": {},
   "outputs": [],
   "source": [
    "X_train, X_test, y_train, y_test = train_test_split(X, y, test_size=0.2, random_state=42)"
   ]
  },
  {
   "cell_type": "code",
   "execution_count": 56,
   "id": "8a2ca98a",
   "metadata": {},
   "outputs": [
    {
     "data": {
      "text/plain": [
       "KNeighborsClassifier(n_neighbors=50)"
      ]
     },
     "execution_count": 56,
     "metadata": {},
     "output_type": "execute_result"
    }
   ],
   "source": [
    "k=50                # try k=50\n",
    "model = KNeighborsClassifier(n_neighbors=k)\n",
    "model.fit(X_train, y_train)"
   ]
  },
  {
   "cell_type": "code",
   "execution_count": 57,
   "id": "5ebaad8e",
   "metadata": {},
   "outputs": [
    {
     "data": {
      "text/plain": [
       "0.9333333333333333"
      ]
     },
     "execution_count": 57,
     "metadata": {},
     "output_type": "execute_result"
    }
   ],
   "source": [
    "y_pred = model.predict(X_test)\n",
    "\n",
    "accuracy_score(y_test, y_pred)"
   ]
  },
  {
   "cell_type": "code",
   "execution_count": 58,
   "id": "2615288d",
   "metadata": {},
   "outputs": [
    {
     "name": "stderr",
     "output_type": "stream",
     "text": [
      "C:\\ProgramData\\Anaconda3\\lib\\site-packages\\sklearn\\base.py:450: UserWarning: X does not have valid feature names, but KNeighborsClassifier was fitted with feature names\n",
      "  warnings.warn(\n"
     ]
    },
    {
     "data": {
      "image/png": "[encoded data removed]",
      "text/plain": [
       "<Figure size 432x288 with 1 Axes>"
      ]
     },
     "metadata": {
      "needs_background": "light"
     },
     "output_type": "display_data"
    }
   ],
   "source": [
    "plot_decision_regions(X_test.to_numpy(), y_test, clf = model) # change to test data\n",
    "plt.xlabel('sepal length')\n",
    "plt.ylabel('sepal width')\n",
    "plt.title(f\"Decision Regions using {k}-NN and the Test Data\");"
   ]
  },
  {
   "cell_type": "code",
   "execution_count": null,
   "id": "cccbb0cf",
   "metadata": {},
   "outputs": [],
   "source": []
  },
  {
   "cell_type": "code",
   "execution_count": null,
   "id": "617b739f",
   "metadata": {},
   "outputs": [],
   "source": []
  },
  {
   "cell_type": "code",
   "execution_count": null,
   "id": "142e6124",
   "metadata": {},
   "outputs": [],
   "source": []
  }
 ],
 "metadata": {
  "kernelspec": {
   "display_name": "Python 3 (ipykernel)",
   "language": "python",
   "name": "python3"
  },
  "language_info": {
   "codemirror_mode": {
    "name": "ipython",
    "version": 3
   },
   "file_extension": ".py",
   "mimetype": "text/x-python",
   "name": "python",
   "nbconvert_exporter": "python",
   "pygments_lexer": "ipython3",
   "version": "3.9.12"
  }
 },
 "nbformat": 4,
 "nbformat_minor": 5
}
