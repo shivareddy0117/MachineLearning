{
 "cells": [
  {
   "cell_type": "markdown",
   "id": "a7324fec",
   "metadata": {},
   "source": [
    "# Random Forest Classifier"
   ]
  },
  {
   "cell_type": "code",
   "execution_count": null,
   "id": "236a6481",
   "metadata": {},
   "outputs": [],
   "source": [
    "import matplotlib.pyplot as plt\n",
    "import numpy as np\n",
    "import pandas as pd\n",
    "import seaborn as sns\n",
    "\n",
    "from sklearn.model_selection import train_test_split, RandomizedSearchCV\n",
    "from sklearn.metrics import accuracy_score, classification_report\n",
    "from sklearn.tree import DecisionTreeClassifier\n",
    "from sklearn.ensemble import RandomForestClassifier\n",
    "\n",
    "from mlxtend.plotting import plot_decision_regions"
   ]
  },
  {
   "cell_type": "code",
   "execution_count": null,
   "id": "c0547491",
   "metadata": {},
   "outputs": [],
   "source": [
    "from sklearn.datasets import make_moons\n",
    "\n",
    "X, y = make_moons(n_samples = 1000, \n",
    "                  noise = 0.3, \n",
    "                  random_state=42)\n",
    "\n",
    "colors = [\"blue\" if label == 0 else \"red\" for label in y]\n",
    "\n",
    "plt.figure(figsize=(8, 6))\n",
    "\n",
    "plt.scatter(X[:, 0], X[:, 1], color = colors)\n",
    "plt.xlabel(\"x0\", fontsize = 14)\n",
    "plt.ylabel(\"x1\", fontsize=14)\n",
    "plt.title(\"Scatter Plot\", fontsize=14)\n",
    "plt.grid();"
   ]
  },
  {
   "cell_type": "code",
   "execution_count": null,
   "id": "88085004",
   "metadata": {},
   "outputs": [],
   "source": [
    "X_train, X_test, y_train, y_test = train_test_split(X, y, test_size=0.3, random_state=42)"
   ]
  },
  {
   "cell_type": "code",
   "execution_count": null,
   "id": "07a353e8",
   "metadata": {},
   "outputs": [],
   "source": [
    "tree = DecisionTreeClassifier(max_depth=15)\n",
    "tree.fit(X_train, y_train)\n",
    "tree_y_pred = tree.predict(X_test)\n",
    "print(f\"Decision Tree Classification Report\")\n",
    "print(classification_report(y_test, tree_y_pred), \"\\n\")\n",
    "\n",
    "\n",
    "forest = RandomForestClassifier(max_depth = 15, \n",
    "                                n_estimators = 500,\n",
    "                                bootstrap = True)\n",
    "forest.fit(X_train, y_train)\n",
    "forest_y_pred = forest.predict(X_test)\n",
    "print(f\"Random Forest Classification Report\")\n",
    "print(classification_report(y_test, forest_y_pred), \"\\n\")"
   ]
  },
  {
   "cell_type": "code",
   "execution_count": null,
   "id": "15f3c2dc",
   "metadata": {},
   "outputs": [],
   "source": [
    "plt.figure(figsize = (8, 6))\n",
    "\n",
    "plot_decision_regions(X_train, y_train, clf = tree);"
   ]
  },
  {
   "cell_type": "code",
   "execution_count": null,
   "id": "8b696476",
   "metadata": {},
   "outputs": [],
   "source": [
    "plt.figure(figsize = (8, 6))\n",
    "\n",
    "plot_decision_regions(X_train, y_train, clf = forest);"
   ]
  },
  {
   "cell_type": "code",
   "execution_count": null,
   "id": "564558fd",
   "metadata": {},
   "outputs": [],
   "source": [
    "n_estimators = []\n",
    "acc_train = []\n",
    "acc_test = []\n",
    "\n",
    "for i in range(10, 201, 10):\n",
    "    rfc = RandomForestClassifier(n_estimators=i)\n",
    "    rfc.fit(X_train, y_train)\n",
    "    acc_train.append(accuracy_score(y_train, rfc.predict(X_train)))\n",
    "    acc_test.append(accuracy_score(y_test, rfc.predict(X_test)))\n",
    "    \n",
    "    n_estimators.append(i)\n",
    "    \n",
    "plt.figure(figsize=(8, 6))\n",
    "\n",
    "plt.plot(n_estimators, acc_train, label=\"training data\")\n",
    "plt.plot(n_estimators, acc_test, label=\"test data\")\n",
    "plt.xlabel(\"Number of trees\", fontsize=14)\n",
    "plt.ylabel(\"Accuracy\", fontsize=14)\n",
    "plt.legend(fontsize=14);\n",
    "plt.grid();"
   ]
  },
  {
   "cell_type": "code",
   "execution_count": null,
   "id": "5d433016",
   "metadata": {},
   "outputs": [],
   "source": [
    "rfc = RandomForestClassifier()\n",
    "\n",
    "random_grid = {\"n_estimators\": range(10, 201, 10),\n",
    "               \"max_features\": [\"sqrt\", \"log2\"],\n",
    "               \"max_depth\": range(10, 101, 10)\n",
    "              }\n",
    "\n",
    "rfc_rs = RandomizedSearchCV(rfc, \n",
    "                            param_distributions = random_grid,\n",
    "                            cv = 5, \n",
    "                            n_iter = 100, \n",
    "                            scoring = \"accuracy\")\n",
    "\n",
    "rfc_rs.fit(X_train, y_train)\n",
    "\n",
    "print(rfc_rs.best_params_)\n",
    "\n",
    "print(rfc_rs.best_score_)"
   ]
  },
  {
   "cell_type": "code",
   "execution_count": null,
   "id": "7f44d809",
   "metadata": {},
   "outputs": [],
   "source": [
    "rfc_rs.best_estimator_"
   ]
  },
  {
   "cell_type": "code",
   "execution_count": null,
   "id": "68e06ff7",
   "metadata": {},
   "outputs": [],
   "source": [
    "accuracy_score(y_test, rfc_rs.best_estimator_.predict(X_test))"
   ]
  },
  {
   "cell_type": "code",
   "execution_count": null,
   "id": "e19378d7",
   "metadata": {},
   "outputs": [],
   "source": [
    "importance = rfc_rs.best_estimator_.feature_importances_\n",
    "\n",
    "feature_names = [\"x0\", \"x1\"]\n",
    "\n",
    "for name, score in zip(feature_names, importance):\n",
    "    print(name, score)"
   ]
  },
  {
   "cell_type": "code",
   "execution_count": null,
   "id": "05acf82c",
   "metadata": {},
   "outputs": [],
   "source": [
    "model = RandomForestClassifier(n_estimators = 20, \n",
    "                               max_features = \"sqrt\", \n",
    "                               max_depth = 10,\n",
    "                               oob_score = True)\n",
    "\n",
    "model.fit(X_train, y_train)"
   ]
  },
  {
   "cell_type": "code",
   "execution_count": null,
   "id": "d8eb2272",
   "metadata": {},
   "outputs": [],
   "source": [
    "model.oob_score_"
   ]
  },
  {
   "cell_type": "code",
   "execution_count": null,
   "id": "9f0f0e76",
   "metadata": {},
   "outputs": [],
   "source": [
    "accuracy_score(y_test, model.predict(X_test))"
   ]
  },
  {
   "cell_type": "code",
   "execution_count": null,
   "id": "3638a9ad",
   "metadata": {},
   "outputs": [],
   "source": []
  }
 ],
 "metadata": {
  "kernelspec": {
   "display_name": "Python 3 (ipykernel)",
   "language": "python",
   "name": "python3"
  },
  "language_info": {
   "codemirror_mode": {
    "name": "ipython",
    "version": 3
   },
   "file_extension": ".py",
   "mimetype": "text/x-python",
   "name": "python",
   "nbconvert_exporter": "python",
   "pygments_lexer": "ipython3",
   "version": "3.9.12"
  }
 },
 "nbformat": 4,
 "nbformat_minor": 5
}
